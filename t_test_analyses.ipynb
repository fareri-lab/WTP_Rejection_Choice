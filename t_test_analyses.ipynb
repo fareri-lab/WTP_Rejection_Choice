{
 "cells": [
  {
   "cell_type": "code",
   "execution_count": 1,
   "metadata": {},
   "outputs": [],
   "source": [
    "import pandas as pd\n",
    "import numpy as np\n",
    "import os \n",
    "import statistics \n",
    "from pathlib import Path\n",
    "from scipy.stats import ttest_rel\n",
    "import matplotlib.pyplot as plt\n",
    "import math\n",
    "from statsmodels.stats.anova import AnovaRM\n",
    "from numpy import mean, std, cov\n",
    "from numpy.random import seed, randn\n",
    "import random as rd\n",
    "#from sklearn import preprocessing\n",
    "#from sklearn import datasets\n",
    "#from sklearn.preprocessing import StandardScaler\n",
    "#from sklearn.decomposition import PCA\n",
    "import matplotlib.pyplot as plt\n",
    "from matplotlib import pyplot\n",
    "from __future__ import division\n",
    "import sys\n",
    "import scipy\n",
    "from math import sqrt\n",
    "import scipy.stats as stats\n",
    "from scipy import stats \n",
    "from scipy.stats import t, pearsonr, sem, spearmanr\n",
    "import seaborn as sns\n",
    "from statistics import mean, stdev\n",
    "import statsmodels.api as sm\n",
    "import statsmodels.formula.api as smf\n",
    "import math\n",
    "import pingouin as pg\n",
    "from pingouin import ttest\n",
    "from scipy.special import logsumexp"
   ]
  },
  {
   "cell_type": "code",
   "execution_count": 2,
   "metadata": {},
   "outputs": [
    {
     "data": {
      "text/html": [
       "<div>\n",
       "<style scoped>\n",
       "    .dataframe tbody tr th:only-of-type {\n",
       "        vertical-align: middle;\n",
       "    }\n",
       "\n",
       "    .dataframe tbody tr th {\n",
       "        vertical-align: top;\n",
       "    }\n",
       "\n",
       "    .dataframe thead th {\n",
       "        text-align: right;\n",
       "    }\n",
       "</style>\n",
       "<table border=\"1\" class=\"dataframe\">\n",
       "  <thead>\n",
       "    <tr style=\"text-align: right;\">\n",
       "      <th></th>\n",
       "      <th>participant</th>\n",
       "      <th>condition_recode</th>\n",
       "      <th>salience_mean</th>\n",
       "      <th>choice</th>\n",
       "      <th>stress_mean</th>\n",
       "      <th>stress_mean.1</th>\n",
       "      <th>rej-acc</th>\n",
       "      <th>ifnegvalue</th>\n",
       "      <th>choicertmean</th>\n",
       "      <th>timebetween</th>\n",
       "      <th>age</th>\n",
       "      <th>sex</th>\n",
       "      <th>order</th>\n",
       "      <th>overallaffect</th>\n",
       "      <th>socialchoice</th>\n",
       "      <th>prop_socialchoice</th>\n",
       "      <th>social_left</th>\n",
       "      <th>social_decisionprice_mean</th>\n",
       "      <th>nonsocial_decisionprice_mean</th>\n",
       "    </tr>\n",
       "  </thead>\n",
       "  <tbody>\n",
       "    <tr>\n",
       "      <th>0</th>\n",
       "      <td>59d5888d21977e0001d630f3</td>\n",
       "      <td>1</td>\n",
       "      <td>2.0</td>\n",
       "      <td>1.535714</td>\n",
       "      <td>7.0</td>\n",
       "      <td>7.0</td>\n",
       "      <td>-1.0</td>\n",
       "      <td>NaN</td>\n",
       "      <td>1.178571</td>\n",
       "      <td>NaN</td>\n",
       "      <td>NaN</td>\n",
       "      <td>NaN</td>\n",
       "      <td>NaN</td>\n",
       "      <td>7.50</td>\n",
       "      <td>999</td>\n",
       "      <td>0.535714</td>\n",
       "      <td>NaN</td>\n",
       "      <td>0.029333</td>\n",
       "      <td>0.029231</td>\n",
       "    </tr>\n",
       "    <tr>\n",
       "      <th>1</th>\n",
       "      <td>59d5888d21977e0001d630f3</td>\n",
       "      <td>2</td>\n",
       "      <td>3.5</td>\n",
       "      <td>1.633333</td>\n",
       "      <td>8.0</td>\n",
       "      <td>8.0</td>\n",
       "      <td>-1.0</td>\n",
       "      <td>NaN</td>\n",
       "      <td>1.100000</td>\n",
       "      <td>NaN</td>\n",
       "      <td>NaN</td>\n",
       "      <td>NaN</td>\n",
       "      <td>NaN</td>\n",
       "      <td>7.50</td>\n",
       "      <td>999</td>\n",
       "      <td>0.478261</td>\n",
       "      <td>0.0</td>\n",
       "      <td>0.030909</td>\n",
       "      <td>0.023333</td>\n",
       "    </tr>\n",
       "    <tr>\n",
       "      <th>2</th>\n",
       "      <td>5a09ebdf087f2e0001eae39f</td>\n",
       "      <td>1</td>\n",
       "      <td>2.5</td>\n",
       "      <td>1.571429</td>\n",
       "      <td>2.0</td>\n",
       "      <td>2.0</td>\n",
       "      <td>-1.0</td>\n",
       "      <td>NaN</td>\n",
       "      <td>2.214286</td>\n",
       "      <td>NaN</td>\n",
       "      <td>NaN</td>\n",
       "      <td>NaN</td>\n",
       "      <td>NaN</td>\n",
       "      <td>2.50</td>\n",
       "      <td>999</td>\n",
       "      <td>0.500000</td>\n",
       "      <td>NaN</td>\n",
       "      <td>0.030714</td>\n",
       "      <td>0.036429</td>\n",
       "    </tr>\n",
       "    <tr>\n",
       "      <th>3</th>\n",
       "      <td>5a09ebdf087f2e0001eae39f</td>\n",
       "      <td>2</td>\n",
       "      <td>3.5</td>\n",
       "      <td>1.633333</td>\n",
       "      <td>3.0</td>\n",
       "      <td>3.0</td>\n",
       "      <td>-1.0</td>\n",
       "      <td>NaN</td>\n",
       "      <td>1.233333</td>\n",
       "      <td>NaN</td>\n",
       "      <td>NaN</td>\n",
       "      <td>NaN</td>\n",
       "      <td>NaN</td>\n",
       "      <td>2.50</td>\n",
       "      <td>999</td>\n",
       "      <td>0.500000</td>\n",
       "      <td>0.0</td>\n",
       "      <td>0.042222</td>\n",
       "      <td>0.028889</td>\n",
       "    </tr>\n",
       "    <tr>\n",
       "      <th>4</th>\n",
       "      <td>5c5c451500b69200011bb8bf</td>\n",
       "      <td>1</td>\n",
       "      <td>1.5</td>\n",
       "      <td>1.333333</td>\n",
       "      <td>5.0</td>\n",
       "      <td>5.0</td>\n",
       "      <td>1.5</td>\n",
       "      <td>NaN</td>\n",
       "      <td>1.500000</td>\n",
       "      <td>NaN</td>\n",
       "      <td>NaN</td>\n",
       "      <td>NaN</td>\n",
       "      <td>NaN</td>\n",
       "      <td>4.25</td>\n",
       "      <td>1</td>\n",
       "      <td>0.666667</td>\n",
       "      <td>1.0</td>\n",
       "      <td>0.042000</td>\n",
       "      <td>0.036000</td>\n",
       "    </tr>\n",
       "    <tr>\n",
       "      <th>...</th>\n",
       "      <td>...</td>\n",
       "      <td>...</td>\n",
       "      <td>...</td>\n",
       "      <td>...</td>\n",
       "      <td>...</td>\n",
       "      <td>...</td>\n",
       "      <td>...</td>\n",
       "      <td>...</td>\n",
       "      <td>...</td>\n",
       "      <td>...</td>\n",
       "      <td>...</td>\n",
       "      <td>...</td>\n",
       "      <td>...</td>\n",
       "      <td>...</td>\n",
       "      <td>...</td>\n",
       "      <td>...</td>\n",
       "      <td>...</td>\n",
       "      <td>...</td>\n",
       "      <td>...</td>\n",
       "    </tr>\n",
       "    <tr>\n",
       "      <th>193</th>\n",
       "      <td>6711f493bfc7c4e11953872d</td>\n",
       "      <td>2</td>\n",
       "      <td>3.5</td>\n",
       "      <td>1.413793</td>\n",
       "      <td>4.0</td>\n",
       "      <td>4.0</td>\n",
       "      <td>3.0</td>\n",
       "      <td>NaN</td>\n",
       "      <td>1.137931</td>\n",
       "      <td>NaN</td>\n",
       "      <td>NaN</td>\n",
       "      <td>NaN</td>\n",
       "      <td>NaN</td>\n",
       "      <td>5.50</td>\n",
       "      <td>999</td>\n",
       "      <td>0.608696</td>\n",
       "      <td>0.0</td>\n",
       "      <td>0.033571</td>\n",
       "      <td>0.027778</td>\n",
       "    </tr>\n",
       "    <tr>\n",
       "      <th>194</th>\n",
       "      <td>671469967e2a4f2e612e3846</td>\n",
       "      <td>1</td>\n",
       "      <td>2.0</td>\n",
       "      <td>1.766667</td>\n",
       "      <td>5.0</td>\n",
       "      <td>5.0</td>\n",
       "      <td>-2.5</td>\n",
       "      <td>NaN</td>\n",
       "      <td>1.466667</td>\n",
       "      <td>NaN</td>\n",
       "      <td>NaN</td>\n",
       "      <td>NaN</td>\n",
       "      <td>NaN</td>\n",
       "      <td>6.25</td>\n",
       "      <td>0</td>\n",
       "      <td>0.466667</td>\n",
       "      <td>0.0</td>\n",
       "      <td>0.027857</td>\n",
       "      <td>0.026875</td>\n",
       "    </tr>\n",
       "    <tr>\n",
       "      <th>195</th>\n",
       "      <td>671469967e2a4f2e612e3846</td>\n",
       "      <td>2</td>\n",
       "      <td>4.0</td>\n",
       "      <td>1.750000</td>\n",
       "      <td>7.5</td>\n",
       "      <td>7.5</td>\n",
       "      <td>-2.5</td>\n",
       "      <td>NaN</td>\n",
       "      <td>1.357143</td>\n",
       "      <td>NaN</td>\n",
       "      <td>NaN</td>\n",
       "      <td>NaN</td>\n",
       "      <td>NaN</td>\n",
       "      <td>6.25</td>\n",
       "      <td>999</td>\n",
       "      <td>0.450000</td>\n",
       "      <td>NaN</td>\n",
       "      <td>0.026667</td>\n",
       "      <td>0.030000</td>\n",
       "    </tr>\n",
       "    <tr>\n",
       "      <th>196</th>\n",
       "      <td>6722ca2b1f3ebd2d544608c3</td>\n",
       "      <td>1</td>\n",
       "      <td>1.5</td>\n",
       "      <td>1.714286</td>\n",
       "      <td>4.0</td>\n",
       "      <td>4.0</td>\n",
       "      <td>-2.5</td>\n",
       "      <td>NaN</td>\n",
       "      <td>0.928571</td>\n",
       "      <td>NaN</td>\n",
       "      <td>NaN</td>\n",
       "      <td>NaN</td>\n",
       "      <td>NaN</td>\n",
       "      <td>5.25</td>\n",
       "      <td>999</td>\n",
       "      <td>0.464286</td>\n",
       "      <td>NaN</td>\n",
       "      <td>0.031538</td>\n",
       "      <td>0.024667</td>\n",
       "    </tr>\n",
       "    <tr>\n",
       "      <th>197</th>\n",
       "      <td>6722ca2b1f3ebd2d544608c3</td>\n",
       "      <td>2</td>\n",
       "      <td>3.5</td>\n",
       "      <td>1.666667</td>\n",
       "      <td>6.5</td>\n",
       "      <td>6.5</td>\n",
       "      <td>-2.5</td>\n",
       "      <td>NaN</td>\n",
       "      <td>0.866667</td>\n",
       "      <td>NaN</td>\n",
       "      <td>NaN</td>\n",
       "      <td>NaN</td>\n",
       "      <td>NaN</td>\n",
       "      <td>5.25</td>\n",
       "      <td>1</td>\n",
       "      <td>0.476190</td>\n",
       "      <td>1.0</td>\n",
       "      <td>0.029000</td>\n",
       "      <td>0.024545</td>\n",
       "    </tr>\n",
       "  </tbody>\n",
       "</table>\n",
       "<p>198 rows × 19 columns</p>\n",
       "</div>"
      ],
      "text/plain": [
       "                  participant  condition_recode  salience_mean    choice  \\\n",
       "0    59d5888d21977e0001d630f3                 1            2.0  1.535714   \n",
       "1    59d5888d21977e0001d630f3                 2            3.5  1.633333   \n",
       "2    5a09ebdf087f2e0001eae39f                 1            2.5  1.571429   \n",
       "3    5a09ebdf087f2e0001eae39f                 2            3.5  1.633333   \n",
       "4    5c5c451500b69200011bb8bf                 1            1.5  1.333333   \n",
       "..                        ...               ...            ...       ...   \n",
       "193  6711f493bfc7c4e11953872d                 2            3.5  1.413793   \n",
       "194  671469967e2a4f2e612e3846                 1            2.0  1.766667   \n",
       "195  671469967e2a4f2e612e3846                 2            4.0  1.750000   \n",
       "196  6722ca2b1f3ebd2d544608c3                 1            1.5  1.714286   \n",
       "197  6722ca2b1f3ebd2d544608c3                 2            3.5  1.666667   \n",
       "\n",
       "     stress_mean  stress_mean.1  rej-acc  ifnegvalue  choicertmean  \\\n",
       "0            7.0            7.0     -1.0         NaN      1.178571   \n",
       "1            8.0            8.0     -1.0         NaN      1.100000   \n",
       "2            2.0            2.0     -1.0         NaN      2.214286   \n",
       "3            3.0            3.0     -1.0         NaN      1.233333   \n",
       "4            5.0            5.0      1.5         NaN      1.500000   \n",
       "..           ...            ...      ...         ...           ...   \n",
       "193          4.0            4.0      3.0         NaN      1.137931   \n",
       "194          5.0            5.0     -2.5         NaN      1.466667   \n",
       "195          7.5            7.5     -2.5         NaN      1.357143   \n",
       "196          4.0            4.0     -2.5         NaN      0.928571   \n",
       "197          6.5            6.5     -2.5         NaN      0.866667   \n",
       "\n",
       "     timebetween  age  sex  order  overallaffect  socialchoice  \\\n",
       "0            NaN  NaN  NaN    NaN           7.50           999   \n",
       "1            NaN  NaN  NaN    NaN           7.50           999   \n",
       "2            NaN  NaN  NaN    NaN           2.50           999   \n",
       "3            NaN  NaN  NaN    NaN           2.50           999   \n",
       "4            NaN  NaN  NaN    NaN           4.25             1   \n",
       "..           ...  ...  ...    ...            ...           ...   \n",
       "193          NaN  NaN  NaN    NaN           5.50           999   \n",
       "194          NaN  NaN  NaN    NaN           6.25             0   \n",
       "195          NaN  NaN  NaN    NaN           6.25           999   \n",
       "196          NaN  NaN  NaN    NaN           5.25           999   \n",
       "197          NaN  NaN  NaN    NaN           5.25             1   \n",
       "\n",
       "     prop_socialchoice  social_left  social_decisionprice_mean  \\\n",
       "0             0.535714          NaN                   0.029333   \n",
       "1             0.478261          0.0                   0.030909   \n",
       "2             0.500000          NaN                   0.030714   \n",
       "3             0.500000          0.0                   0.042222   \n",
       "4             0.666667          1.0                   0.042000   \n",
       "..                 ...          ...                        ...   \n",
       "193           0.608696          0.0                   0.033571   \n",
       "194           0.466667          0.0                   0.027857   \n",
       "195           0.450000          NaN                   0.026667   \n",
       "196           0.464286          NaN                   0.031538   \n",
       "197           0.476190          1.0                   0.029000   \n",
       "\n",
       "     nonsocial_decisionprice_mean  \n",
       "0                        0.029231  \n",
       "1                        0.023333  \n",
       "2                        0.036429  \n",
       "3                        0.028889  \n",
       "4                        0.036000  \n",
       "..                            ...  \n",
       "193                      0.027778  \n",
       "194                      0.026875  \n",
       "195                      0.030000  \n",
       "196                      0.024667  \n",
       "197                      0.024545  \n",
       "\n",
       "[198 rows x 19 columns]"
      ]
     },
     "metadata": {},
     "output_type": "display_data"
    }
   ],
   "source": [
    "current_dir = os.getcwd()\n",
    "shortformdata = pd.read_csv('shortformdata.csv')\n",
    "display(shortformdata)"
   ]
  },
  {
   "cell_type": "code",
   "execution_count": 3,
   "metadata": {},
   "outputs": [
    {
     "name": "stdout",
     "output_type": "stream",
     "text": [
      "99\n",
      "99\n"
     ]
    },
    {
     "name": "stderr",
     "output_type": "stream",
     "text": [
      "/Users/jordansiegel/opt/anaconda3/lib/python3.8/site-packages/outdated/utils.py:14: OutdatedPackageWarning: The package pingouin is out of date. Your version is 0.5.3, the latest is 0.5.5.\n",
      "Set the environment variable OUTDATED_IGNORE=1 to disable these warnings.\n",
      "  return warn(\n"
     ]
    }
   ],
   "source": [
    "#create sepeate variables with values for within each condition\n",
    "rej = shortformdata.loc[shortformdata['condition_recode']==1].reset_index(drop=True)\n",
    "acc = shortformdata.loc[shortformdata['condition_recode']==2].reset_index(drop=True)\n",
    "\n",
    "print(len(rej))\n",
    "print(len(acc))"
   ]
  },
  {
   "cell_type": "code",
   "execution_count": 4,
   "metadata": {},
   "outputs": [
    {
     "name": "stdout",
     "output_type": "stream",
     "text": [
      "           T  dof alternative  p-val         CI95%  cohen-d   BF10  power\n",
      "T-test  1.39   98        less   0.92  [-inf, 0.05]     0.13  0.566    0.0\n"
     ]
    }
   ],
   "source": [
    "#t-test \n",
    "rej_acc_propsoc = ttest(rej['prop_socialchoice'], acc['prop_socialchoice'], paired=True, alternative='less').round(2)\n",
    "print(rej_acc_propsoc)"
   ]
  },
  {
   "cell_type": "code",
   "execution_count": 5,
   "metadata": {},
   "outputs": [
    {
     "name": "stdout",
     "output_type": "stream",
     "text": [
      "           T  dof alternative  p-val         CI95%  cohen-d       BF10  power\n",
      "T-test -7.06   98        less    0.0  [-inf, -0.0]     0.61  7.794e+07    1.0\n"
     ]
    }
   ],
   "source": [
    "#t-test for the difference in \n",
    "rej_acc_decisionprice = ttest(rej['social_decisionprice_mean'], acc['social_decisionprice_mean'], paired=True, alternative='less').round(2)\n",
    "print(rej_acc_decisionprice)"
   ]
  },
  {
   "cell_type": "code",
   "execution_count": 7,
   "metadata": {},
   "outputs": [
    {
     "name": "stdout",
     "output_type": "stream",
     "text": [
      "           T  dof alternative  p-val        CI95%  cohen-d   BF10  power\n",
      "T-test  1.25   97        less   0.89  [-inf, 0.0]     0.15  0.478    0.0\n"
     ]
    }
   ],
   "source": [
    "#t-test for the difference in \n",
    "rej_acc_decisionprice = ttest(rej['social_decisionprice_mean'], rej['nonsocial_decisionprice_mean'], paired=True, alternative='less').round(2)\n",
    "print(rej_acc_decisionprice)"
   ]
  },
  {
   "cell_type": "code",
   "execution_count": 8,
   "metadata": {},
   "outputs": [
    {
     "name": "stdout",
     "output_type": "stream",
     "text": [
      "            T  dof alternative  p-val         CI95%  cohen-d       BF10  power\n",
      "T-test  10.78   98        less    1.0  [-inf, 0.01]      1.2  2.201e-16    0.0\n"
     ]
    }
   ],
   "source": [
    "#t-test for the difference in \n",
    "rej_acc_decisionprice = ttest(acc['social_decisionprice_mean'], acc['nonsocial_decisionprice_mean'], paired=True, alternative='less').round(2)\n",
    "print(rej_acc_decisionprice)"
   ]
  },
  {
   "cell_type": "code",
   "execution_count": 9,
   "metadata": {},
   "outputs": [
    {
     "name": "stdout",
     "output_type": "stream",
     "text": [
      "           T  dof alternative  p-val        CI95%  cohen-d BF10  power\n",
      "T-test  4.62   97        less    1.0  [-inf, 0.0]     0.47  0.0    0.0\n"
     ]
    }
   ],
   "source": [
    "#t-test for the difference in \n",
    "rej_acc_decisionprice = ttest(rej['nonsocial_decisionprice_mean'], acc['nonsocial_decisionprice_mean'], paired=True, alternative='less').round(2)\n",
    "print(rej_acc_decisionprice)"
   ]
  },
  {
   "cell_type": "code",
   "execution_count": 48,
   "metadata": {},
   "outputs": [
    {
     "name": "stdout",
     "output_type": "stream",
     "text": [
      "           T  dof alternative  p-val        CI95%  cohen-d       BF10  power\n",
      "T-test  7.68  196        less    1.0  [-inf, 0.0]     0.66  5.383e-11    0.0\n"
     ]
    }
   ],
   "source": [
    "#t-test for the difference in \n",
    "overall_decisionprice = ttest(shortformdata['social_decisionprice_mean'], shortformdata['nonsocial_decisionprice_mean'], paired=True, alternative='less').round(2)\n",
    "print(overall_decisionprice)"
   ]
  },
  {
   "cell_type": "code",
   "execution_count": 31,
   "metadata": {},
   "outputs": [
    {
     "name": "stdout",
     "output_type": "stream",
     "text": [
      "           T  dof alternative  p-val          CI95%  cohen-d    BF10  power\n",
      "T-test -3.47   98        less    0.0  [-inf, -0.33]     0.29  57.028   0.89\n"
     ]
    }
   ],
   "source": [
    "#t-test for the difference in self-reported affect between rejection and acceptance\n",
    "rej_acc_stress = ttest(rej['stress_mean'], acc['stress_mean'], paired=True, alternative='less').round(2)\n",
    "print(rej_acc_stress)"
   ]
  },
  {
   "cell_type": "code",
   "execution_count": 32,
   "metadata": {},
   "outputs": [
    {
     "name": "stdout",
     "output_type": "stream",
     "text": [
      "            T  dof alternative  p-val          CI95%  cohen-d       BF10  \\\n",
      "T-test -12.06   97        less    0.0  [-inf, -1.08]     1.28  1.816e+18   \n",
      "\n",
      "        power  \n",
      "T-test    1.0  \n"
     ]
    }
   ],
   "source": [
    "#t-test for the difference in self-reported affect between rejection and acceptance\n",
    "rej_acc_salience = ttest(rej['salience_mean'], acc['salience_mean'], paired=True, alternative='less').round(2)\n",
    "print(rej_acc_salience)"
   ]
  },
  {
   "cell_type": "code",
   "execution_count": 35,
   "metadata": {},
   "outputs": [
    {
     "name": "stdout",
     "output_type": "stream",
     "text": [
      "rej_propsocialchoice_mean\n",
      "0.547780236558833\n",
      "rej_propsocialchoice_std\n",
      "0.16695795121812715\n",
      "acc_propsocialchoice_mean\n",
      "0.5264058720943038\n",
      "acc_propsocialchoice_std\n",
      "0.17459430325982342\n"
     ]
    }
   ],
   "source": [
    "#proportion of social-choice in rej condition\n",
    "rej_propsocialchoice_mean = rej['prop_socialchoice'].mean()\n",
    "rej_propsocialchoice_std = rej['prop_socialchoice'].std()\n",
    "print('rej_propsocialchoice_mean')\n",
    "print(rej_propsocialchoice_mean)\n",
    "print('rej_propsocialchoice_std')\n",
    "print(rej_propsocialchoice_std)\n",
    "\n",
    "acc_propsocialchoice_mean = acc['prop_socialchoice'].mean()\n",
    "acc_propsocialchoice_std = acc['prop_socialchoice'].std()\n",
    "print('acc_propsocialchoice_mean')\n",
    "print(acc_propsocialchoice_mean)\n",
    "print('acc_propsocialchoice_std')\n",
    "print(acc_propsocialchoice_std)\n"
   ]
  },
  {
   "cell_type": "code",
   "execution_count": 33,
   "metadata": {},
   "outputs": [
    {
     "name": "stdout",
     "output_type": "stream",
     "text": [
      "0.5370930543265684\n",
      "0.17072124257464252\n"
     ]
    }
   ],
   "source": [
    "prop_socialchoice_mean = shortformdata['prop_socialchoice'].mean()\n",
    "prop_socialchoice_std = shortformdata['prop_socialchoice'].std()\n",
    "print(prop_socialchoice_mean)\n",
    "print(prop_socialchoice_std)"
   ]
  },
  {
   "cell_type": "code",
   "execution_count": 45,
   "metadata": {},
   "outputs": [
    {
     "name": "stdout",
     "output_type": "stream",
     "text": [
      "rej_social_decisionprice_mean\n",
      "0.032293801568986404\n",
      "rej_social_decisionprice_std\n",
      "0.005382026537971851\n",
      "acc_social_decisionprice_mean_mean\n",
      "0.035404788038923475\n",
      "acc_social_decision_price_std\n",
      "0.004885062661950964\n"
     ]
    }
   ],
   "source": [
    "#proportion of social-choice in rej condition\n",
    "rej_social_decisionprice_mean = rej['social_decisionprice_mean'].mean()\n",
    "rej_social_decisionprice_std = rej['social_decisionprice_mean'].std()\n",
    "print('rej_social_decisionprice_mean')\n",
    "print(rej_social_decisionprice_mean)\n",
    "print('rej_social_decisionprice_std')\n",
    "print(rej_social_decisionprice_std)\n",
    "\n",
    "acc_social_decisionprice_mean_mean = acc['social_decisionprice_mean'].mean()\n",
    "acc_social_decision_price_std = acc['social_decisionprice_mean'].std()\n",
    "print('acc_social_decisionprice_mean_mean')\n",
    "print(acc_social_decisionprice_mean_mean)\n",
    "print('acc_social_decision_price_std')\n",
    "print(acc_social_decision_price_std)"
   ]
  },
  {
   "cell_type": "code",
   "execution_count": 47,
   "metadata": {},
   "outputs": [
    {
     "name": "stdout",
     "output_type": "stream",
     "text": [
      "rej_nonsocial_decisionprice_mean\n",
      "0.031467081818824544\n",
      "rej_nonsocial_decisionprice_std\n",
      "0.0055588827729632076\n",
      "acc_nonsocial_decisionprice_mean_mean\n",
      "0.028585867552961053\n",
      "acc_nonsocial_decision_price_std\n",
      "0.006378876026016411\n"
     ]
    }
   ],
   "source": [
    "#proportion of social-choice in rej condition\n",
    "rej_nonsocial_decisionprice_mean = rej['nonsocial_decisionprice_mean'].mean()\n",
    "rej_nonsocial_decisionprice_std = rej['nonsocial_decisionprice_mean'].std()\n",
    "print('rej_nonsocial_decisionprice_mean')\n",
    "print(rej_nonsocial_decisionprice_mean)\n",
    "print('rej_nonsocial_decisionprice_std')\n",
    "print(rej_nonsocial_decisionprice_std)\n",
    "\n",
    "acc_nonsocial_decisionprice_mean_mean = acc['nonsocial_decisionprice_mean'].mean()\n",
    "acc_nonsocial_decision_price_std = acc['nonsocial_decisionprice_mean'].std()\n",
    "print('acc_nonsocial_decisionprice_mean_mean')\n",
    "print(acc_nonsocial_decisionprice_mean_mean)\n",
    "print('acc_nonsocial_decision_price_std')\n",
    "print(acc_nonsocial_decision_price_std)"
   ]
  },
  {
   "cell_type": "code",
   "execution_count": 49,
   "metadata": {},
   "outputs": [
    {
     "name": "stdout",
     "output_type": "stream",
     "text": [
      "shortformdata_nonsocial_decisionprice_mean\n",
      "0.030019161959329695\n",
      "shortformdata_nonsocial_decisionprice_std\n",
      "0.0061419738787383965\n",
      "shortformdata_social_decisionprice_mean\n",
      "0.033849294803954946\n",
      "shortformdata_social_decisionprice_std\n",
      "0.005358430577173932\n"
     ]
    }
   ],
   "source": [
    "#proportion of social-choice in rej condition\n",
    "shortformdata_nonsocial_decisionprice_mean = shortformdata['nonsocial_decisionprice_mean'].mean()\n",
    "shortformdata_nonsocial_decisionprice_std = shortformdata['nonsocial_decisionprice_mean'].std()\n",
    "print('shortformdata_nonsocial_decisionprice_mean')\n",
    "print(shortformdata_nonsocial_decisionprice_mean)\n",
    "print('shortformdata_nonsocial_decisionprice_std')\n",
    "print(shortformdata_nonsocial_decisionprice_std)\n",
    "\n",
    "#proportion of social-choice in rej condition\n",
    "shortformdata_social_decisionprice_mean = shortformdata['social_decisionprice_mean'].mean()\n",
    "shortformdata_social_decisionprice_std = shortformdata['social_decisionprice_mean'].std()\n",
    "print('shortformdata_social_decisionprice_mean')\n",
    "print(shortformdata_social_decisionprice_mean)\n",
    "print('shortformdata_social_decisionprice_std')\n",
    "print(shortformdata_social_decisionprice_std)"
   ]
  },
  {
   "cell_type": "code",
   "execution_count": 58,
   "metadata": {},
   "outputs": [
    {
     "data": {
      "text/html": [
       "<div>\n",
       "<style scoped>\n",
       "    .dataframe tbody tr th:only-of-type {\n",
       "        vertical-align: middle;\n",
       "    }\n",
       "\n",
       "    .dataframe tbody tr th {\n",
       "        vertical-align: top;\n",
       "    }\n",
       "\n",
       "    .dataframe thead th {\n",
       "        text-align: right;\n",
       "    }\n",
       "</style>\n",
       "<table border=\"1\" class=\"dataframe\">\n",
       "  <thead>\n",
       "    <tr style=\"text-align: right;\">\n",
       "      <th></th>\n",
       "      <th>rej_socialprice</th>\n",
       "      <th>rej_nonsocialprice</th>\n",
       "      <th>acc_socialprice</th>\n",
       "      <th>acc_nonsocialprice</th>\n",
       "    </tr>\n",
       "  </thead>\n",
       "  <tbody>\n",
       "    <tr>\n",
       "      <th>0</th>\n",
       "      <td>0.029333</td>\n",
       "      <td>0.029231</td>\n",
       "      <td>0.030909</td>\n",
       "      <td>0.023333</td>\n",
       "    </tr>\n",
       "    <tr>\n",
       "      <th>1</th>\n",
       "      <td>0.030714</td>\n",
       "      <td>0.036429</td>\n",
       "      <td>0.042222</td>\n",
       "      <td>0.028889</td>\n",
       "    </tr>\n",
       "    <tr>\n",
       "      <th>2</th>\n",
       "      <td>0.042000</td>\n",
       "      <td>0.036000</td>\n",
       "      <td>0.037778</td>\n",
       "      <td>0.026000</td>\n",
       "    </tr>\n",
       "    <tr>\n",
       "      <th>3</th>\n",
       "      <td>0.026429</td>\n",
       "      <td>0.026429</td>\n",
       "      <td>0.030000</td>\n",
       "      <td>0.024545</td>\n",
       "    </tr>\n",
       "    <tr>\n",
       "      <th>4</th>\n",
       "      <td>0.022727</td>\n",
       "      <td>0.030526</td>\n",
       "      <td>0.035455</td>\n",
       "      <td>0.025000</td>\n",
       "    </tr>\n",
       "    <tr>\n",
       "      <th>...</th>\n",
       "      <td>...</td>\n",
       "      <td>...</td>\n",
       "      <td>...</td>\n",
       "      <td>...</td>\n",
       "    </tr>\n",
       "    <tr>\n",
       "      <th>94</th>\n",
       "      <td>0.043333</td>\n",
       "      <td>0.041667</td>\n",
       "      <td>0.044667</td>\n",
       "      <td>0.048000</td>\n",
       "    </tr>\n",
       "    <tr>\n",
       "      <th>95</th>\n",
       "      <td>0.036111</td>\n",
       "      <td>0.028333</td>\n",
       "      <td>0.041667</td>\n",
       "      <td>0.023636</td>\n",
       "    </tr>\n",
       "    <tr>\n",
       "      <th>96</th>\n",
       "      <td>0.033529</td>\n",
       "      <td>0.026364</td>\n",
       "      <td>0.033571</td>\n",
       "      <td>0.027778</td>\n",
       "    </tr>\n",
       "    <tr>\n",
       "      <th>97</th>\n",
       "      <td>0.027857</td>\n",
       "      <td>0.026875</td>\n",
       "      <td>0.026667</td>\n",
       "      <td>0.030000</td>\n",
       "    </tr>\n",
       "    <tr>\n",
       "      <th>98</th>\n",
       "      <td>0.031538</td>\n",
       "      <td>0.024667</td>\n",
       "      <td>0.029000</td>\n",
       "      <td>0.024545</td>\n",
       "    </tr>\n",
       "  </tbody>\n",
       "</table>\n",
       "<p>99 rows × 4 columns</p>\n",
       "</div>"
      ],
      "text/plain": [
       "    rej_socialprice  rej_nonsocialprice  acc_socialprice  acc_nonsocialprice\n",
       "0          0.029333            0.029231         0.030909            0.023333\n",
       "1          0.030714            0.036429         0.042222            0.028889\n",
       "2          0.042000            0.036000         0.037778            0.026000\n",
       "3          0.026429            0.026429         0.030000            0.024545\n",
       "4          0.022727            0.030526         0.035455            0.025000\n",
       "..              ...                 ...              ...                 ...\n",
       "94         0.043333            0.041667         0.044667            0.048000\n",
       "95         0.036111            0.028333         0.041667            0.023636\n",
       "96         0.033529            0.026364         0.033571            0.027778\n",
       "97         0.027857            0.026875         0.026667            0.030000\n",
       "98         0.031538            0.024667         0.029000            0.024545\n",
       "\n",
       "[99 rows x 4 columns]"
      ]
     },
     "metadata": {},
     "output_type": "display_data"
    }
   ],
   "source": [
    "fourbarplot = pd.DataFrame()\n",
    "\n",
    "fourbarplot['rej_socialprice'] = rej['social_decisionprice_mean']\n",
    "fourbarplot['rej_nonsocialprice'] = rej['nonsocial_decisionprice_mean']\n",
    "fourbarplot['acc_socialprice'] = acc['social_decisionprice_mean']\n",
    "fourbarplot['acc_nonsocialprice'] = acc['nonsocial_decisionprice_mean']\n",
    "display(fourbarplot)"
   ]
  },
  {
   "cell_type": "code",
   "execution_count": 59,
   "metadata": {},
   "outputs": [
    {
     "data": {
      "image/png": "[encoded data removed]",
      "text/plain": [
       "<Figure size 432x288 with 1 Axes>"
      ]
     },
     "metadata": {
      "needs_background": "light"
     },
     "output_type": "display_data"
    }
   ],
   "source": [
    "\n",
    "# Prepare data for plotting\n",
    "fourbarplot_melted = fourbarplot.melt(var_name='ConditionxType', value_name='Price')\n",
    "\n",
    "# Plot\n",
    "plt.figure(figsize=(6, 4))\n",
    "sns.barplot(data=fourbarplot_melted, x='ConditionxType', y='Price', palette='viridis')\n",
    "\n",
    "# Customize the plot\n",
    "plt.title('Bar Plot with 4 Columns')\n",
    "plt.ylabel('Values')\n",
    "plt.xlabel('Variables')\n",
    "plt.tight_layout()\n",
    "\n",
    "# Show the plot\n",
    "plt.show()\n"
   ]
  },
  {
   "cell_type": "code",
   "execution_count": null,
   "metadata": {},
   "outputs": [],
   "source": [
    "\n"
   ]
  }
 ],
 "metadata": {
  "kernelspec": {
   "display_name": "Python 3",
   "language": "python",
   "name": "python3"
  },
  "language_info": {
   "codemirror_mode": {
    "name": "ipython",
    "version": 3
   },
   "file_extension": ".py",
   "mimetype": "text/x-python",
   "name": "python",
   "nbconvert_exporter": "python",
   "pygments_lexer": "ipython3",
   "version": "3.8.5"
  }
 },
 "nbformat": 4,
 "nbformat_minor": 5
}
