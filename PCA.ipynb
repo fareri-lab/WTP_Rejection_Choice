{
 "cells": [
  {
   "cell_type": "code",
   "execution_count": 13,
   "id": "713a3c3e",
   "metadata": {},
   "outputs": [],
   "source": [
    "#import packages\n",
    "import os\n",
    "import pandas as pd\n",
    "import numpy as np\n",
    "from numpy import mean, std, cov \n",
    "from numpy.random import seed, randn\n",
    "import random as rd\n",
    "from sklearn import preprocessing\n",
    "from sklearn import datasets\n",
    "from sklearn.preprocessing import StandardScaler\n",
    "from sklearn.decomposition import PCA\n",
    "import matplotlib.pyplot as plt\n",
    "from matplotlib import pyplot\n",
    "from scipy.stats import spearmanr\n",
    "\n",
    "\n",
    "from __future__ import division \n",
    "import sys\n",
    "import scipy\n",
    "from math import sqrt\n",
    "import scipy.stats as stats \n",
    "from scipy.stats import t, pearsonr, sem\n",
    "import seaborn as sns\n",
    "from statistics import mean, stdev\n",
    "\n",
    "import statsmodels.api as sm\n",
    "import statsmodels.formula.api as smf"
   ]
  },
  {
   "cell_type": "code",
   "execution_count": 2,
   "id": "c00678a5",
   "metadata": {},
   "outputs": [
    {
     "name": "stdout",
     "output_type": "stream",
     "text": [
      "/Users/jordansiegel/opt/anaconda3/bin/python\n",
      "Requirement already satisfied: homebrew in /Users/jordansiegel/opt/anaconda3/lib/python3.8/site-packages (0.2.5)\n"
     ]
    }
   ],
   "source": [
    "print(sys.executable)\n",
    "!{sys.executable} -m pip install homebrew"
   ]
  },
  {
   "cell_type": "code",
   "execution_count": 3,
   "id": "630f145d",
   "metadata": {},
   "outputs": [
    {
     "name": "stdout",
     "output_type": "stream",
     "text": [
      "/Users/jordansiegel/Documents/GitHub/WTP_Rejection_Choice\n"
     ]
    }
   ],
   "source": [
    "#set paths\n",
    "\n",
    "current_dir = os.getcwd()\n",
    "print(current_dir)"
   ]
  },
  {
   "cell_type": "code",
   "execution_count": 7,
   "id": "225e8d6a",
   "metadata": {},
   "outputs": [],
   "source": [
    "#import the individual difference measure csvs\n",
    "#scoringpath = os.chdir('/mnt/disk01/farerilab/GitHub/WTP_Rejection_Choice/scoring')\n",
    "scoringpath = os.chdir('/users/jordansiegel/Documents/GitHub/WTP_Rejection_Choice/scoring')\n",
    "\n",
    "#aq = pd.read_csv('aq.csv')\n",
    "ntbs = pd.read_csv('ntbs.csv')\n",
    "rsq = pd.read_csv('rsq.csv')\n",
    "#scs = pd.read_csv('scs.csv')\n",
    "#mspss = pd.read_csv('mspss.csv')\n",
    "#brcs = pd.read_csv('brcs.csv')\n",
    "#pss = pd.read_csv('pss.csv')\n",
    "#srq = pd.read_csv('srq.csv')\n",
    "#dii = pd.read_csv('DII.csv')\n",
    "#rr = pd.read_csv('rr.csv')\n",
    "#ucla = pd.read_csv('ucla.csv')"
   ]
  },
  {
   "cell_type": "code",
   "execution_count": 11,
   "id": "371240e4",
   "metadata": {},
   "outputs": [
    {
     "name": "stdout",
     "output_type": "stream",
     "text": [
      "                 Prolific_ID  NTBS_score\n",
      "0   59d5888d21977e0001d630f3          27\n",
      "1   5a09ebdf087f2e0001eae39f          32\n",
      "2   5c5c451500b69200011bb8bf          32\n",
      "3   5c9d004ee3b6c40015254526          32\n",
      "4   5cc3f0f9fdb33500018c5eeb          30\n",
      "..                       ...         ...\n",
      "93  67094d6215b6d0fe3e8c3e39          34\n",
      "94  670d326c55fa3d6f10ebe253          36\n",
      "95  6711f493bfc7c4e11953872d          41\n",
      "96  671469967e2a4f2e612e3846          34\n",
      "97  6722ca2b1f3ebd2d544608c3          33\n",
      "\n",
      "[98 rows x 2 columns]\n",
      "                 Prolific_ID  RSQ_finalscore\n",
      "0   59d5888d21977e0001d630f3          10.250\n",
      "1   5a09ebdf087f2e0001eae39f           9.000\n",
      "2   5c5c451500b69200011bb8bf          10.750\n",
      "3   5c9d004ee3b6c40015254526          16.875\n",
      "4   5cc3f0f9fdb33500018c5eeb           5.750\n",
      "..                       ...             ...\n",
      "93  67094d6215b6d0fe3e8c3e39           9.625\n",
      "94  670d326c55fa3d6f10ebe253           9.750\n",
      "95  6711f493bfc7c4e11953872d          12.375\n",
      "96  671469967e2a4f2e612e3846           9.375\n",
      "97  6722ca2b1f3ebd2d544608c3          11.500\n",
      "\n",
      "[98 rows x 2 columns]\n"
     ]
    }
   ],
   "source": [
    "print(ntbs)\n",
    "print(rsq)"
   ]
  },
  {
   "cell_type": "code",
   "execution_count": 14,
   "id": "1893839f",
   "metadata": {},
   "outputs": [
    {
     "data": {
      "image/png": "[encoded data removed]",
      "text/plain": [
       "<Figure size 432x288 with 1 Axes>"
      ]
     },
     "metadata": {
      "needs_background": "light"
     },
     "output_type": "display_data"
    },
    {
     "name": "stdout",
     "output_type": "stream",
     "text": [
      "[[25.5351357  -0.99704134]\n",
      " [-0.99704134 11.62944621]]\n",
      "Spearmans correlation: 0.015\n",
      "p value: 0.8856\n",
      "Spearman correlation = 0.015, p = 0.8856\n",
      "No significant monotonic association between NTBs and R².\n"
     ]
    }
   ],
   "source": [
    "# prop_socialchoice_ // AQ\n",
    "pyplot.scatter(ntbs['NTBS_score'],rsq['RSQ_finalscore'])\n",
    "pyplot.show()\n",
    "covariance = cov(ntbs['NTBS_score'],rsq['RSQ_finalscore'])\n",
    "print(covariance)\n",
    "corr, _ = spearmanr(ntbs['NTBS_score'],rsq['RSQ_finalscore'])\n",
    "print('Spearmans correlation: %.3f' % corr)\n",
    "r,p = scipy.stats.spearmanr(ntbs['NTBS_score'],rsq['RSQ_finalscore'])\n",
    "print('p value: %.4f' % p)\n",
    "\n",
    "print(f'Spearman correlation = {corr:.3f}, p = {p:.4f}')\n",
    "if p < 0.05:\n",
    "    print(\"There is a significant monotonic association between NTBs and R².\")\n",
    "else:\n",
    "    print(\"No significant monotonic association between NTBs and R².\")\n"
   ]
  },
  {
   "cell_type": "code",
   "execution_count": null,
   "id": "3c753bcd",
   "metadata": {},
   "outputs": [],
   "source": []
  }
 ],
 "metadata": {
  "kernelspec": {
   "display_name": "Python 3",
   "language": "python",
   "name": "python3"
  },
  "language_info": {
   "codemirror_mode": {
    "name": "ipython",
    "version": 3
   },
   "file_extension": ".py",
   "mimetype": "text/x-python",
   "name": "python",
   "nbconvert_exporter": "python",
   "pygments_lexer": "ipython3",
   "version": "3.8.10"
  }
 },
 "nbformat": 4,
 "nbformat_minor": 5
}
