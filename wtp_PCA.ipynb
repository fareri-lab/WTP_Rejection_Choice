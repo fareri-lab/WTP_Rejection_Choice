{
 "cells": [
  {
   "cell_type": "code",
   "execution_count": 1,
   "id": "713a3c3e",
   "metadata": {},
   "outputs": [],
   "source": [
    "#import packages\n",
    "import os\n",
    "import pandas as pd\n",
    "import numpy as np\n",
    "from numpy import mean, std, cov \n",
    "from numpy.random import seed, randn\n",
    "import random as rd\n",
    "from sklearn import preprocessing\n",
    "from sklearn import datasets\n",
    "from sklearn.preprocessing import StandardScaler\n",
    "from sklearn.decomposition import PCA\n",
    "import matplotlib.pyplot as plt\n",
    "from matplotlib import pyplot\n",
    "from scipy.stats import spearmanr\n",
    "\n",
    "\n",
    "from __future__ import division \n",
    "import sys\n",
    "import scipy\n",
    "from math import sqrt\n",
    "import scipy.stats as stats \n",
    "from scipy.stats import t, pearsonr, sem\n",
    "import seaborn as sns\n",
    "from statistics import mean, stdev\n",
    "\n",
    "import statsmodels.api as sm\n",
    "import statsmodels.formula.api as smf"
   ]
  },
  {
   "cell_type": "code",
   "execution_count": 2,
   "id": "c00678a5",
   "metadata": {},
   "outputs": [
    {
     "name": "stdout",
     "output_type": "stream",
     "text": [
      "/Users/jordansiegel/opt/anaconda3/bin/python\n",
      "Requirement already satisfied: homebrew in /Users/jordansiegel/opt/anaconda3/lib/python3.8/site-packages (0.2.5)\n"
     ]
    }
   ],
   "source": [
    "print(sys.executable)\n",
    "!{sys.executable} -m pip install homebrew"
   ]
  },
  {
   "cell_type": "code",
   "execution_count": 3,
   "id": "630f145d",
   "metadata": {},
   "outputs": [
    {
     "name": "stdout",
     "output_type": "stream",
     "text": [
      "/Users/jordansiegel/Documents/GitHub/WTP_Rejection_Choice\n"
     ]
    }
   ],
   "source": [
    "#set paths\n",
    "\n",
    "current_dir = os.getcwd()\n",
    "print(current_dir)"
   ]
  },
  {
   "cell_type": "code",
   "execution_count": 6,
   "id": "225e8d6a",
   "metadata": {},
   "outputs": [],
   "source": [
    "#import the individual difference measure csvs\n",
    "#scoringpath = os.chdir('/mnt/disk01/farerilab/GitHub/WTP_Rejection_Choice/scoring')\n",
    "scoringpath = os.chdir('/users/jordansiegel/Documents/GitHub/WTP_Rejection_Choice/scoring')\n",
    "\n",
    "aq = pd.read_csv('aq.csv')\n",
    "ntbs = pd.read_csv('ntbs.csv')\n",
    "rsq = pd.read_csv('rsq.csv')\n",
    "scs = pd.read_csv('scs.csv')\n",
    "mspss = pd.read_csv('mspss.csv')\n",
    "brcs = pd.read_csv('brcs.csv')\n",
    "pss = pd.read_csv('pss.csv')\n",
    "srq = pd.read_csv('srq.csv')\n",
    "dii = pd.read_csv('DII.csv')\n",
    "rr = pd.read_csv('rr.csv')\n",
    "ucla = pd.read_csv('ucla.csv')"
   ]
  },
  {
   "cell_type": "code",
   "execution_count": 11,
   "id": "371240e4",
   "metadata": {},
   "outputs": [
    {
     "name": "stdout",
     "output_type": "stream",
     "text": [
      "                 Prolific_ID  NTBS_score\n",
      "0   59d5888d21977e0001d630f3          27\n",
      "1   5a09ebdf087f2e0001eae39f          32\n",
      "2   5c5c451500b69200011bb8bf          32\n",
      "3   5c9d004ee3b6c40015254526          32\n",
      "4   5cc3f0f9fdb33500018c5eeb          30\n",
      "..                       ...         ...\n",
      "93  67094d6215b6d0fe3e8c3e39          34\n",
      "94  670d326c55fa3d6f10ebe253          36\n",
      "95  6711f493bfc7c4e11953872d          41\n",
      "96  671469967e2a4f2e612e3846          34\n",
      "97  6722ca2b1f3ebd2d544608c3          33\n",
      "\n",
      "[98 rows x 2 columns]\n",
      "                 Prolific_ID  RSQ_finalscore\n",
      "0   59d5888d21977e0001d630f3          10.250\n",
      "1   5a09ebdf087f2e0001eae39f           9.000\n",
      "2   5c5c451500b69200011bb8bf          10.750\n",
      "3   5c9d004ee3b6c40015254526          16.875\n",
      "4   5cc3f0f9fdb33500018c5eeb           5.750\n",
      "..                       ...             ...\n",
      "93  67094d6215b6d0fe3e8c3e39           9.625\n",
      "94  670d326c55fa3d6f10ebe253           9.750\n",
      "95  6711f493bfc7c4e11953872d          12.375\n",
      "96  671469967e2a4f2e612e3846           9.375\n",
      "97  6722ca2b1f3ebd2d544608c3          11.500\n",
      "\n",
      "[98 rows x 2 columns]\n"
     ]
    }
   ],
   "source": [
    "print(ntbs)\n",
    "print(rsq)"
   ]
  },
  {
   "cell_type": "code",
   "execution_count": 14,
   "id": "1893839f",
   "metadata": {},
   "outputs": [
    {
     "data": {
      "image/png": "[encoded data removed]",
      "text/plain": [
       "<Figure size 432x288 with 1 Axes>"
      ]
     },
     "metadata": {
      "needs_background": "light"
     },
     "output_type": "display_data"
    },
    {
     "name": "stdout",
     "output_type": "stream",
     "text": [
      "[[25.5351357  -0.99704134]\n",
      " [-0.99704134 11.62944621]]\n",
      "Spearmans correlation: 0.015\n",
      "p value: 0.8856\n",
      "Spearman correlation = 0.015, p = 0.8856\n",
      "No significant monotonic association between NTBs and R².\n"
     ]
    }
   ],
   "source": [
    "# prop_socialchoice_ // AQ\n",
    "pyplot.scatter(ntbs['NTBS_score'],rsq['RSQ_finalscore'])\n",
    "pyplot.show()\n",
    "covariance = cov(ntbs['NTBS_score'],rsq['RSQ_finalscore'])\n",
    "print(covariance)\n",
    "corr, _ = spearmanr(ntbs['NTBS_score'],rsq['RSQ_finalscore'])\n",
    "print('Spearmans correlation: %.3f' % corr)\n",
    "r,p = scipy.stats.spearmanr(ntbs['NTBS_score'],rsq['RSQ_finalscore'])\n",
    "print('p value: %.4f' % p)\n",
    "\n",
    "print(f'Spearman correlation = {corr:.3f}, p = {p:.4f}')\n",
    "if p < 0.05:\n",
    "    print(\"There is a significant monotonic association between NTBs and R².\")\n",
    "else:\n",
    "    print(\"No significant monotonic association between NTBs and R².\")\n"
   ]
  },
  {
   "cell_type": "code",
   "execution_count": 8,
   "id": "3c753bcd",
   "metadata": {},
   "outputs": [
    {
     "name": "stdout",
     "output_type": "stream",
     "text": [
      "                          aq  ntbs     rsq  scs  srqadmiration  \\\n",
      "Prolific_ID                                                      \n",
      "59d5888d21977e0001d630f3  14    27  10.250  107           5.75   \n",
      "5a09ebdf087f2e0001eae39f  13    32   9.000   88           5.50   \n",
      "5c5c451500b69200011bb8bf  23    32  10.750   83           5.75   \n",
      "5c9d004ee3b6c40015254526   7    32  16.875   99           5.75   \n",
      "5cc3f0f9fdb33500018c5eeb  24    30   5.750   90           4.50   \n",
      "...                       ..   ...     ...  ...            ...   \n",
      "67094d6215b6d0fe3e8c3e39  16    34   9.625   98           6.00   \n",
      "670d326c55fa3d6f10ebe253  26    36   9.750   79           6.75   \n",
      "6711f493bfc7c4e11953872d  23    41  12.375   56           7.00   \n",
      "671469967e2a4f2e612e3846  16    34   9.375   87           7.00   \n",
      "6722ca2b1f3ebd2d544608c3  20    33  11.500   57           7.00   \n",
      "\n",
      "                          srqnegativesocpot  srqsexualbehavior  srqprosocial  \\\n",
      "Prolific_ID                                                                    \n",
      "59d5888d21977e0001d630f3                1.0           1.000000           7.0   \n",
      "5a09ebdf087f2e0001eae39f                1.4           3.666667           6.0   \n",
      "5c5c451500b69200011bb8bf                4.0           4.666667           5.0   \n",
      "5c9d004ee3b6c40015254526                2.2           4.000000           5.2   \n",
      "5cc3f0f9fdb33500018c5eeb                1.2           5.000000           7.0   \n",
      "...                                     ...                ...           ...   \n",
      "67094d6215b6d0fe3e8c3e39                2.4           5.666667           6.0   \n",
      "670d326c55fa3d6f10ebe253                1.4           2.333333           6.8   \n",
      "6711f493bfc7c4e11953872d                2.0           3.333333           6.8   \n",
      "671469967e2a4f2e612e3846                1.0           6.333333           7.0   \n",
      "6722ca2b1f3ebd2d544608c3                1.4           3.000000           7.0   \n",
      "\n",
      "                          srqsociability     mspss  \n",
      "Prolific_ID                                         \n",
      "59d5888d21977e0001d630f3        5.000000  4.083333  \n",
      "5a09ebdf087f2e0001eae39f        4.333333  6.333333  \n",
      "5c5c451500b69200011bb8bf        5.666667  6.333333  \n",
      "5c9d004ee3b6c40015254526        4.666667  6.166667  \n",
      "5cc3f0f9fdb33500018c5eeb        4.000000  5.916667  \n",
      "...                                  ...       ...  \n",
      "67094d6215b6d0fe3e8c3e39        5.666667  4.333333  \n",
      "670d326c55fa3d6f10ebe253        5.333333  6.583333  \n",
      "6711f493bfc7c4e11953872d        5.000000  3.500000  \n",
      "671469967e2a4f2e612e3846        6.666667  4.666667  \n",
      "6722ca2b1f3ebd2d544608c3        6.000000  4.250000  \n",
      "\n",
      "[98 rows x 10 columns]\n"
     ]
    }
   ],
   "source": [
    "wtp_pca = ''\n",
    "wtp_pca = pd.DataFrame()\n",
    "wtp_pca['Prolific_ID'] = aq['Prolific_ID']\n",
    "wtp_pca['aq'] = aq['AQ']\n",
    "wtp_pca['ntbs'] = ntbs['NTBS_score']\n",
    "wtp_pca['rsq'] = rsq['RSQ_finalscore']\n",
    "wtp_pca['scs'] = scs['SCS_score']\n",
    "wtp_pca['srqadmiration'] = srq['SRQ_admiration']\n",
    "wtp_pca['srqnegativesocpot'] = srq['SRQ_negsocpot']\n",
    "wtp_pca['srqsexualbehavior'] = srq['SRQ_sexrel']\n",
    "wtp_pca['srqprosocial'] = srq['SRQ_prosocint']\n",
    "wtp_pca['srqsociability'] = srq['SRQ_sociability']\n",
    "wtp_pca['mspss'] = mspss['MSPSS_score']\n",
    "ids = wtp_pca['Prolific_ID']\n",
    "\n",
    "wtp_pca = pd.DataFrame(data=wtp_pca)\n",
    "wtp_pca = wtp_pca.drop(['Prolific_ID'], axis =1)\n",
    "wtp_pca.index = ids\n",
    "measures = wtp_pca.columns\n",
    "print(wtp_pca)"
   ]
  },
  {
   "cell_type": "code",
   "execution_count": 10,
   "id": "5dbbe071",
   "metadata": {},
   "outputs": [
    {
     "name": "stdout",
     "output_type": "stream",
     "text": [
      "98\n"
     ]
    }
   ],
   "source": [
    "#sample size\n",
    "sample_size = len(wtp_pca)\n",
    "print(sample_size\n",
    "     )"
   ]
  },
  {
   "cell_type": "code",
   "execution_count": 11,
   "id": "c7eb2e75",
   "metadata": {},
   "outputs": [
    {
     "name": "stdout",
     "output_type": "stream",
     "text": [
      "Prolific_ID        59d5888d21977e0001d630f3  5a09ebdf087f2e0001eae39f  \\\n",
      "aq                                14.000000                 13.000000   \n",
      "ntbs                              27.000000                 32.000000   \n",
      "rsq                               10.250000                  9.000000   \n",
      "scs                              107.000000                 88.000000   \n",
      "srqadmiration                      5.750000                  5.500000   \n",
      "srqnegativesocpot                  1.000000                  1.400000   \n",
      "srqsexualbehavior                  1.000000                  3.666667   \n",
      "srqprosocial                       7.000000                  6.000000   \n",
      "srqsociability                     5.000000                  4.333333   \n",
      "mspss                              4.083333                  6.333333   \n",
      "\n",
      "Prolific_ID        5c5c451500b69200011bb8bf  5c9d004ee3b6c40015254526  \\\n",
      "aq                                23.000000                  7.000000   \n",
      "ntbs                              32.000000                 32.000000   \n",
      "rsq                               10.750000                 16.875000   \n",
      "scs                               83.000000                 99.000000   \n",
      "srqadmiration                      5.750000                  5.750000   \n",
      "srqnegativesocpot                  4.000000                  2.200000   \n",
      "srqsexualbehavior                  4.666667                  4.000000   \n",
      "srqprosocial                       5.000000                  5.200000   \n",
      "srqsociability                     5.666667                  4.666667   \n",
      "mspss                              6.333333                  6.166667   \n",
      "\n",
      "Prolific_ID        5cc3f0f9fdb33500018c5eeb  5ddce9f0f85b50c4fc1515a4  \\\n",
      "aq                                24.000000                    17.000   \n",
      "ntbs                              30.000000                    36.000   \n",
      "rsq                                5.750000                    10.625   \n",
      "scs                               90.000000                    75.000   \n",
      "srqadmiration                      4.500000                     4.500   \n",
      "srqnegativesocpot                  1.200000                     2.200   \n",
      "srqsexualbehavior                  5.000000                     4.000   \n",
      "srqprosocial                       7.000000                     6.000   \n",
      "srqsociability                     4.000000                     5.000   \n",
      "mspss                              5.916667                     5.000   \n",
      "\n",
      "Prolific_ID        5de8613ddf86d37c8a8ab294  5e923888c38d4a574e72d716  \\\n",
      "aq                                 5.000000                 34.000000   \n",
      "ntbs                              27.000000                 25.000000   \n",
      "rsq                                7.000000                 16.000000   \n",
      "scs                              115.000000                 35.000000   \n",
      "srqadmiration                      4.000000                  4.250000   \n",
      "srqnegativesocpot                  1.000000                  1.400000   \n",
      "srqsexualbehavior                  4.666667                  2.000000   \n",
      "srqprosocial                       7.000000                  6.800000   \n",
      "srqsociability                     5.333333                  3.333333   \n",
      "mspss                              7.000000                  2.083333   \n",
      "\n",
      "Prolific_ID        5efe8c25e921d23a9daec079  5f0f5df48a1b1a114c3dacc5  ...  \\\n",
      "aq                                15.000000                 30.000000  ...   \n",
      "ntbs                              28.000000                 37.000000  ...   \n",
      "rsq                                5.500000                 17.500000  ...   \n",
      "scs                               93.000000                 64.000000  ...   \n",
      "srqadmiration                      5.500000                  5.000000  ...   \n",
      "srqnegativesocpot                  1.400000                  1.600000  ...   \n",
      "srqsexualbehavior                  5.000000                  4.000000  ...   \n",
      "srqprosocial                       6.600000                  7.000000  ...   \n",
      "srqsociability                     3.333333                  4.666667  ...   \n",
      "mspss                              7.000000                  3.916667  ...   \n",
      "\n",
      "Prolific_ID        66f2946d0e3eeda7aa13eaa7  66f42a85953065aa4cc9d751  \\\n",
      "aq                                25.000000                 31.000000   \n",
      "ntbs                              35.000000                 38.000000   \n",
      "rsq                               12.250000                  9.375000   \n",
      "scs                               61.000000                 73.000000   \n",
      "srqadmiration                      4.500000                  6.000000   \n",
      "srqnegativesocpot                  3.800000                  2.200000   \n",
      "srqsexualbehavior                  5.000000                  4.333333   \n",
      "srqprosocial                       3.800000                  6.200000   \n",
      "srqsociability                     4.000000                  4.000000   \n",
      "mspss                              4.083333                  6.083333   \n",
      "\n",
      "Prolific_ID        66f899c9525316803c5d75c0  6700d6aca79c6b2534f6292c  \\\n",
      "aq                                10.000000                 25.000000   \n",
      "ntbs                              36.000000                 40.000000   \n",
      "rsq                                7.750000                 12.250000   \n",
      "scs                               93.000000                 78.000000   \n",
      "srqadmiration                      6.500000                  6.250000   \n",
      "srqnegativesocpot                  3.200000                  1.800000   \n",
      "srqsexualbehavior                  6.333333                  7.000000   \n",
      "srqprosocial                       6.200000                  6.600000   \n",
      "srqsociability                     6.000000                  6.333333   \n",
      "mspss                              5.666667                  5.916667   \n",
      "\n",
      "Prolific_ID        6704251bcdca04fef23d385d  67094d6215b6d0fe3e8c3e39  \\\n",
      "aq                                38.000000                 16.000000   \n",
      "ntbs                              33.000000                 34.000000   \n",
      "rsq                                8.375000                  9.625000   \n",
      "scs                               44.000000                 98.000000   \n",
      "srqadmiration                      3.750000                  6.000000   \n",
      "srqnegativesocpot                  1.000000                  2.400000   \n",
      "srqsexualbehavior                  1.000000                  5.666667   \n",
      "srqprosocial                       5.600000                  6.000000   \n",
      "srqsociability                     1.000000                  5.666667   \n",
      "mspss                              4.916667                  4.333333   \n",
      "\n",
      "Prolific_ID        670d326c55fa3d6f10ebe253  6711f493bfc7c4e11953872d  \\\n",
      "aq                                26.000000                 23.000000   \n",
      "ntbs                              36.000000                 41.000000   \n",
      "rsq                                9.750000                 12.375000   \n",
      "scs                               79.000000                 56.000000   \n",
      "srqadmiration                      6.750000                  7.000000   \n",
      "srqnegativesocpot                  1.400000                  2.000000   \n",
      "srqsexualbehavior                  2.333333                  3.333333   \n",
      "srqprosocial                       6.800000                  6.800000   \n",
      "srqsociability                     5.333333                  5.000000   \n",
      "mspss                              6.583333                  3.500000   \n",
      "\n",
      "Prolific_ID        671469967e2a4f2e612e3846  6722ca2b1f3ebd2d544608c3  \n",
      "aq                                16.000000                     20.00  \n",
      "ntbs                              34.000000                     33.00  \n",
      "rsq                                9.375000                     11.50  \n",
      "scs                               87.000000                     57.00  \n",
      "srqadmiration                      7.000000                      7.00  \n",
      "srqnegativesocpot                  1.000000                      1.40  \n",
      "srqsexualbehavior                  6.333333                      3.00  \n",
      "srqprosocial                       7.000000                      7.00  \n",
      "srqsociability                     6.666667                      6.00  \n",
      "mspss                              4.666667                      4.25  \n",
      "\n",
      "[10 rows x 98 columns]\n"
     ]
    }
   ],
   "source": [
    "#transpose dataframe so that the rows represent measures and columns represent each participant\n",
    "wtp_pca = wtp_pca.transpose()\n",
    "print(wtp_pca)"
   ]
  },
  {
   "cell_type": "code",
   "execution_count": 12,
   "id": "854be9c8",
   "metadata": {},
   "outputs": [
    {
     "name": "stdout",
     "output_type": "stream",
     "text": [
      "Prolific_ID    59d5888d21977e0001d630f3  5a09ebdf087f2e0001eae39f  \\\n",
      "aq                                14.00                      13.0   \n",
      "ntbs                              27.00                      32.0   \n",
      "rsq                               10.25                       9.0   \n",
      "scs                              107.00                      88.0   \n",
      "srqadmiration                      5.75                       5.5   \n",
      "\n",
      "Prolific_ID    5c5c451500b69200011bb8bf  5c9d004ee3b6c40015254526  \\\n",
      "aq                                23.00                     7.000   \n",
      "ntbs                              32.00                    32.000   \n",
      "rsq                               10.75                    16.875   \n",
      "scs                               83.00                    99.000   \n",
      "srqadmiration                      5.75                     5.750   \n",
      "\n",
      "Prolific_ID    5cc3f0f9fdb33500018c5eeb  5ddce9f0f85b50c4fc1515a4  \\\n",
      "aq                                24.00                    17.000   \n",
      "ntbs                              30.00                    36.000   \n",
      "rsq                                5.75                    10.625   \n",
      "scs                               90.00                    75.000   \n",
      "srqadmiration                      4.50                     4.500   \n",
      "\n",
      "Prolific_ID    5de8613ddf86d37c8a8ab294  5e923888c38d4a574e72d716  \\\n",
      "aq                                  5.0                     34.00   \n",
      "ntbs                               27.0                     25.00   \n",
      "rsq                                 7.0                     16.00   \n",
      "scs                               115.0                     35.00   \n",
      "srqadmiration                       4.0                      4.25   \n",
      "\n",
      "Prolific_ID    5efe8c25e921d23a9daec079  5f0f5df48a1b1a114c3dacc5  ...  \\\n",
      "aq                                 15.0                      30.0  ...   \n",
      "ntbs                               28.0                      37.0  ...   \n",
      "rsq                                 5.5                      17.5  ...   \n",
      "scs                                93.0                      64.0  ...   \n",
      "srqadmiration                       5.5                       5.0  ...   \n",
      "\n",
      "Prolific_ID    66f2946d0e3eeda7aa13eaa7  66f42a85953065aa4cc9d751  \\\n",
      "aq                                25.00                    31.000   \n",
      "ntbs                              35.00                    38.000   \n",
      "rsq                               12.25                     9.375   \n",
      "scs                               61.00                    73.000   \n",
      "srqadmiration                      4.50                     6.000   \n",
      "\n",
      "Prolific_ID    66f899c9525316803c5d75c0  6700d6aca79c6b2534f6292c  \\\n",
      "aq                                10.00                     25.00   \n",
      "ntbs                              36.00                     40.00   \n",
      "rsq                                7.75                     12.25   \n",
      "scs                               93.00                     78.00   \n",
      "srqadmiration                      6.50                      6.25   \n",
      "\n",
      "Prolific_ID    6704251bcdca04fef23d385d  67094d6215b6d0fe3e8c3e39  \\\n",
      "aq                               38.000                    16.000   \n",
      "ntbs                             33.000                    34.000   \n",
      "rsq                               8.375                     9.625   \n",
      "scs                              44.000                    98.000   \n",
      "srqadmiration                     3.750                     6.000   \n",
      "\n",
      "Prolific_ID    670d326c55fa3d6f10ebe253  6711f493bfc7c4e11953872d  \\\n",
      "aq                                26.00                    23.000   \n",
      "ntbs                              36.00                    41.000   \n",
      "rsq                                9.75                    12.375   \n",
      "scs                               79.00                    56.000   \n",
      "srqadmiration                      6.75                     7.000   \n",
      "\n",
      "Prolific_ID    671469967e2a4f2e612e3846  6722ca2b1f3ebd2d544608c3  \n",
      "aq                               16.000                      20.0  \n",
      "ntbs                             34.000                      33.0  \n",
      "rsq                               9.375                      11.5  \n",
      "scs                              87.000                      57.0  \n",
      "srqadmiration                     7.000                       7.0  \n",
      "\n",
      "[5 rows x 98 columns]\n",
      "(10, 98)\n"
     ]
    }
   ],
   "source": [
    "#return 1st five values of dataframe\n",
    "print(wtp_pca.head())\n",
    "#return dimensions of our data matrix: 6 measures by 84 participants\n",
    "print(wtp_pca.shape)"
   ]
  },
  {
   "cell_type": "code",
   "execution_count": 14,
   "id": "e6b3496d",
   "metadata": {},
   "outputs": [
    {
     "name": "stdout",
     "output_type": "stream",
     "text": [
      "                          id         0         1         2         3  \\\n",
      "0   59d5888d21977e0001d630f3 -0.888180 -1.187375  0.119177  1.233081   \n",
      "1   5a09ebdf087f2e0001eae39f -1.019267 -0.192822 -0.249256  0.388033   \n",
      "2   5c5c451500b69200011bb8bf  0.291601 -0.192822  0.266549  0.165651   \n",
      "3   5c9d004ee3b6c40015254526 -1.805788 -0.192822  2.071868  0.877271   \n",
      "4   5cc3f0f9fdb33500018c5eeb  0.422688 -0.590643 -1.207180  0.476985   \n",
      "..                       ...       ...       ...       ...       ...   \n",
      "93  67094d6215b6d0fe3e8c3e39 -0.626006  0.205000 -0.065040  0.832795   \n",
      "94  670d326c55fa3d6f10ebe253  0.684862  0.602821 -0.028196 -0.012254   \n",
      "95  6711f493bfc7c4e11953872d  0.291601  1.597374  0.745511 -1.035207   \n",
      "96  671469967e2a4f2e612e3846 -0.626006  0.205000 -0.138726  0.343556   \n",
      "97  6722ca2b1f3ebd2d544608c3 -0.101659  0.006089  0.487609 -0.990731   \n",
      "\n",
      "           4         5         6         7         8         9  \n",
      "0   0.177451 -0.972716 -2.250759  0.910363  0.198312 -1.058940  \n",
      "1  -0.067481 -0.506573 -0.672409 -0.581537 -0.293702  0.848449  \n",
      "2   0.177451  2.523353 -0.080528 -2.073436  0.690325  0.848449  \n",
      "3   0.177451  0.425712 -0.475116 -1.775056 -0.047695  0.707161  \n",
      "4  -1.047209 -0.739644  0.116766  0.910363 -0.539709  0.495229  \n",
      "..       ...       ...       ...       ...       ...       ...  \n",
      "93  0.422383  0.658783  0.511353 -0.581537  0.690325 -0.847008  \n",
      "94  1.157178 -0.506573 -1.461584  0.611983  0.444318  1.060382  \n",
      "95  1.402110  0.192640 -0.869703  0.611983  0.198312 -1.553448  \n",
      "96  1.402110 -0.972716  0.905941  0.910363  1.428346 -0.564432  \n",
      "97  1.402110 -0.506573 -1.066997  0.910363  0.936332 -0.917652  \n",
      "\n",
      "[98 rows x 11 columns]\n"
     ]
    }
   ],
   "source": [
    "#STEP 1: before PCA, scale and center the data\n",
    "#Standardizarion ensures the range of the continous inital variables each equally contributes to the analysis\n",
    "scaled_wtp_pca = preprocessing.scale(wtp_pca.T)\n",
    "# print(scaled_data)\n",
    "#alternative function: StandardScaler().fit_transform(data.T)\n",
    "type(scaled_wtp_pca)\n",
    "scaled_wtp_pca_df = pd.DataFrame(data= scaled_wtp_pca)\n",
    "# print(scaled_df)\n",
    "scaled_wtp_pca_df.insert(0,'id',ids)\n",
    "print(scaled_wtp_pca_df)"
   ]
  },
  {
   "cell_type": "code",
   "execution_count": 16,
   "id": "172fd790",
   "metadata": {},
   "outputs": [
    {
     "name": "stdout",
     "output_type": "stream",
     "text": [
      "[[-2.39219476e-02 -1.14606887e+00  1.87254636e+00]\n",
      " [-5.07947410e-01 -4.71544903e-02  9.70395314e-01]\n",
      " [-1.99765042e-01  2.96153373e+00 -8.38743601e-01]\n",
      " [-4.64088534e-01  1.69955837e+00  1.59131043e-01]\n",
      " [-2.07667272e-01 -8.04005073e-01  1.53524625e+00]\n",
      " [ 4.73928094e-01  8.23933308e-01  1.84365110e-01]\n",
      " [-2.24583853e+00 -2.98717648e-01  2.97380187e+00]\n",
      " [ 4.40482622e+00 -5.47339477e-01  8.75845448e-01]\n",
      " [-1.06951776e+00 -5.60035775e-01  1.62606652e+00]\n",
      " [ 2.04020919e+00 -6.04745628e-01 -1.03268213e+00]\n",
      " [ 1.18864204e+00 -6.34997440e-01 -1.09719746e+00]\n",
      " [ 6.07192112e-01 -8.25013455e-01 -7.76227648e-01]\n",
      " [-2.11758409e+00 -4.42248054e-01  2.58445830e+00]\n",
      " [-2.41725502e+00 -3.09407527e-01  1.22225726e-01]\n",
      " [ 2.81248980e-01  1.78550865e+00 -8.69603862e-01]\n",
      " [ 1.74590356e+00 -2.65708084e+00 -1.83832966e+00]\n",
      " [-8.75561114e-01  1.29722121e+00 -5.04735743e-01]\n",
      " [-7.23973150e-01  1.44058668e+00  1.13259392e+00]\n",
      " [-1.93866803e+00 -1.44880434e+00  2.85757643e-01]\n",
      " [-2.69544443e+00 -1.47032220e+00 -6.90872157e-01]\n",
      " [ 1.69401475e+00  1.19025662e-01  1.44158348e+00]\n",
      " [-7.27302962e-01  1.04553082e+00 -7.87914520e-01]\n",
      " [ 7.49914473e-01  5.62273059e-01 -4.27545635e-01]\n",
      " [ 1.79049056e+00 -2.19918820e+00 -1.91045516e+00]\n",
      " [-1.64696732e-01  1.07989700e+00  5.69689046e-01]\n",
      " [-1.88723000e+00  1.97932309e+00  3.48177732e-01]\n",
      " [ 3.33096323e-02  5.69027883e-01 -7.37715163e-01]\n",
      " [-2.90266192e-01  4.46077051e-01  7.04482325e-01]\n",
      " [ 3.78372186e-01  1.47356493e-01 -5.76910810e-01]\n",
      " [ 1.55550737e+00  1.20495931e-01  1.28067874e+00]\n",
      " [ 1.63249938e+00  1.07657222e+00  6.09268705e-01]\n",
      " [-1.18764956e+00  1.42591179e+00  3.50583024e-01]\n",
      " [-2.24873956e+00 -7.05953573e-01 -8.57144774e-01]\n",
      " [-1.68764342e+00 -1.33736560e+00 -1.59216381e-01]\n",
      " [-1.50183388e+00 -5.86609023e-03 -6.70991266e-01]\n",
      " [ 6.14173159e-01 -1.64394352e+00 -5.83094828e-01]\n",
      " [ 1.41616936e+00 -3.36339465e-01 -6.66833448e-01]\n",
      " [ 1.94451663e+00 -2.11050214e+00  6.71937444e-01]\n",
      " [-3.61201458e+00  4.37008757e-01  1.26370742e+00]\n",
      " [ 5.35865764e-02 -1.41390836e+00  1.28964086e-02]\n",
      " [-2.26928533e+00 -1.02841621e+00 -6.95385375e-02]\n",
      " [-1.45522745e+00  2.61410437e-01 -1.06118584e+00]\n",
      " [-2.29720746e-01 -9.45882339e-02 -8.27826817e-01]\n",
      " [-1.43731638e+00  1.35478613e+00 -1.90367894e-01]\n",
      " [ 2.70161217e-01 -1.45634207e-01  1.14431449e-01]\n",
      " [-1.08250700e-01 -3.14252516e-01 -5.38284692e-02]\n",
      " [-1.61146703e+00  1.38905484e+00  7.50746707e-01]\n",
      " [ 4.01951137e+00 -1.24489425e+00  1.29280448e+00]\n",
      " [ 1.88406086e+00  6.32471534e-01  1.80424917e-01]\n",
      " [ 1.42451086e+00 -1.02808542e+00  2.57257814e-01]\n",
      " [ 2.50399139e-01 -1.53406294e+00 -4.79758645e-01]\n",
      " [ 3.42693833e-01 -1.64822595e+00 -8.77380556e-01]\n",
      " [ 5.51490037e+00 -7.33108401e-01  8.21188601e-01]\n",
      " [-2.70857049e-02  1.07425602e-01 -1.80843029e+00]\n",
      " [ 7.01711309e-02  4.73422815e-02  3.10220734e+00]\n",
      " [ 8.32702759e-01 -2.14200738e+00 -1.20615951e+00]\n",
      " [ 2.04953076e+00 -2.13542187e+00  8.09571315e-02]\n",
      " [-1.18753734e+00  9.47970441e-01  6.49322175e-01]\n",
      " [-2.41143389e+00 -1.53553596e+00 -5.11292251e-01]\n",
      " [-1.50005743e+00  2.41917485e-01  1.62041018e+00]\n",
      " [ 3.95036666e+00  3.83452463e+00 -2.15840577e-01]\n",
      " [-1.03310821e+00 -1.54594649e+00  2.26105382e-01]\n",
      " [-1.46577582e+00 -3.28276451e-01  1.64075247e+00]\n",
      " [ 4.29398315e-01 -5.43130397e-01 -6.52604902e-01]\n",
      " [ 1.08674973e+00  1.53972773e+00 -1.30739528e+00]\n",
      " [ 6.16813411e-01  3.68582431e-01 -4.88722694e-01]\n",
      " [-2.80547125e+00 -1.07756578e+00  1.08071874e+00]\n",
      " [-2.12959859e+00 -8.61873530e-01 -4.57388113e-01]\n",
      " [ 3.56102407e+00 -9.72706038e-01  6.91794917e-01]\n",
      " [-1.45817820e+00  7.46417526e-02 -2.73551683e-01]\n",
      " [ 3.74179905e-01  1.65726359e+00 -1.85414960e-01]\n",
      " [-1.25940221e+00 -3.89943467e-01  1.10686150e+00]\n",
      " [ 2.61011358e-01 -1.38970777e+00 -8.87105457e-01]\n",
      " [-2.17879228e+00 -1.29837999e-01 -8.83599441e-01]\n",
      " [ 2.93431266e+00 -8.35722365e-01  6.17257564e-01]\n",
      " [-1.62714237e+00  1.84817751e+00 -2.55208290e-02]\n",
      " [-9.64870509e-02  1.44210232e+00  1.16486068e-01]\n",
      " [ 9.66430351e-01  4.08534890e+00 -5.93838703e-01]\n",
      " [ 1.92328497e+00 -2.02840255e-01  1.53300802e+00]\n",
      " [ 3.18055406e+00  1.87945699e+00  3.78350632e-01]\n",
      " [-1.92112911e+00 -2.14560748e-01 -4.33520283e-03]\n",
      " [-1.28500297e+00 -2.88674840e-01  1.93520839e+00]\n",
      " [ 5.41073340e-01 -9.42337691e-01  8.74494659e-01]\n",
      " [-1.50125153e+00  1.97629004e+00 -1.31395715e-01]\n",
      " [-1.84860456e+00 -1.12735027e+00 -1.39204242e+00]\n",
      " [ 7.87397719e-01  2.67719157e+00 -5.15315831e-01]\n",
      " [-2.00938328e+00  2.88454221e-01 -1.23053341e+00]\n",
      " [ 8.13024568e-01  1.04572463e-01 -8.07621628e-01]\n",
      " [ 2.24622873e+00  3.99777456e+00 -9.47543292e-01]\n",
      " [ 6.88169006e-01 -1.25211438e-01 -1.09416114e+00]\n",
      " [-2.08991575e+00  1.20206180e+00 -1.04158612e+00]\n",
      " [-9.21852048e-01 -1.90901943e-01 -1.97167628e+00]\n",
      " [ 4.34509727e+00 -5.90011626e-01  1.40545580e+00]\n",
      " [-8.68651623e-01  9.92494124e-01 -5.12727388e-01]\n",
      " [-1.77677647e-01 -1.43118226e+00 -5.42430916e-01]\n",
      " [ 1.09716351e+00 -1.07003756e+00 -2.14543347e+00]\n",
      " [-1.69124063e+00 -1.17151659e+00 -8.19167534e-01]\n",
      " [ 3.35230167e-01 -1.40530847e+00 -8.12746715e-01]]\n"
     ]
    }
   ],
   "source": [
    "#create PCA object\n",
    "#sklearn uses objects that can be trained using one dataseet and applied to another dataset\n",
    "pca = PCA(n_components=3)\n",
    "\n",
    "#call fit method on scaled data, where all PCA math occurs (i.e. calculate loading scores and the variation each principal component accounts for)\n",
    "pca.fit(scaled_wtp_pca)\n",
    "\n",
    "\n",
    "#generate coordinates for PCA graph based on loading scores and scaled data\n",
    "pca_data = pca.transform(scaled_wtp_pca)\n",
    "print(pca_data)"
   ]
  },
  {
   "cell_type": "code",
   "execution_count": 17,
   "id": "257de7f5",
   "metadata": {},
   "outputs": [],
   "source": [
    "#calculate the percentage of variation that each principal component accounts for\n",
    "per_var = np.round(pca.explained_variance_ratio_*100,decimals=1)\n",
    "\n",
    "type(per_var)\n",
    "per_var = np.round(pca.explained_variance_ratio_*100,decimals=1)"
   ]
  },
  {
   "cell_type": "code",
   "execution_count": 18,
   "id": "4d0e0fa3",
   "metadata": {},
   "outputs": [],
   "source": [
    "#now create labels for scree plot, 1 label per principal component; PC1, PC2, etc\n",
    "labels = ['PC' +str(x) for x in range(1,len(per_var)+1)]"
   ]
  },
  {
   "cell_type": "code",
   "execution_count": 19,
   "id": "57a5147c",
   "metadata": {},
   "outputs": [
    {
     "name": "stdout",
     "output_type": "stream",
     "text": [
      "[32.2 18.5 11.4]\n"
     ]
    }
   ],
   "source": [
    "percs = pd.DataFrame(per_var)\n",
    "print(per_var)"
   ]
  },
  {
   "cell_type": "code",
   "execution_count": 20,
   "id": "d51628ac",
   "metadata": {},
   "outputs": [
    {
     "data": {
      "image/png": "[encoded data removed]",
      "text/plain": [
       "<Figure size 1080x1080 with 1 Axes>"
      ]
     },
     "metadata": {
      "needs_background": "light"
     },
     "output_type": "display_data"
    }
   ],
   "source": [
    "#use matplotlib to create a bar plot\n",
    "plt.figure(figsize=(15,15))\n",
    "plt.bar(x=range(1,len(per_var)+1), height= per_var,tick_label=labels)\n",
    "plt.ylabel('Percentage of Explained Variance')\n",
    "plt.xlabel('Principal Component')\n",
    "plt.title('Scree Plot')\n",
    "plt.savefig('PCAskreeplotall.png')\n",
    "plt.show()"
   ]
  },
  {
   "cell_type": "code",
   "execution_count": 34,
   "id": "bd714a85",
   "metadata": {},
   "outputs": [
    {
     "name": "stdout",
     "output_type": "stream",
     "text": [
      "[32.2, 18.5, 11.4]\n"
     ]
    }
   ],
   "source": [
    "per_var2 = list(per_var[0:3])\n",
    "print(per_var2)\n",
    "labels2 = ['PC' +str(x) for x in range(1,len(per_var2)+1)]"
   ]
  },
  {
   "cell_type": "code",
   "execution_count": 22,
   "id": "479546c9",
   "metadata": {},
   "outputs": [
    {
     "data": {
      "image/png": "[encoded data removed]",
      "text/plain": [
       "<Figure size 432x288 with 1 Axes>"
      ]
     },
     "metadata": {
      "needs_background": "light"
     },
     "output_type": "display_data"
    }
   ],
   "source": [
    "#use matplotlib to create a bar plot\n",
    "# plt.figure(figsize=(,15))\n",
    "plt.bar(x=range(1,len(per_var2)+1), height= per_var2,tick_label=labels2)\n",
    "plt.ylabel('Percentage of Explained Variance')\n",
    "plt.xlabel('Principal Component')\n",
    "plt.title('Scree Plot')\n",
    "plt.savefig('PCAskreeplot_top3.png')\n",
    "plt.show()"
   ]
  },
  {
   "cell_type": "code",
   "execution_count": 23,
   "id": "bb4f2ea7",
   "metadata": {},
   "outputs": [
    {
     "name": "stdout",
     "output_type": "stream",
     "text": [
      "                               PC1       PC2       PC3\n",
      "Prolific_ID                                           \n",
      "59d5888d21977e0001d630f3 -0.023922 -1.146069  1.872546\n",
      "5a09ebdf087f2e0001eae39f -0.507947 -0.047154  0.970395\n",
      "5c5c451500b69200011bb8bf -0.199765  2.961534 -0.838744\n",
      "5c9d004ee3b6c40015254526 -0.464089  1.699558  0.159131\n",
      "5cc3f0f9fdb33500018c5eeb -0.207667 -0.804005  1.535246\n",
      "...                            ...       ...       ...\n",
      "67094d6215b6d0fe3e8c3e39 -0.868652  0.992494 -0.512727\n",
      "670d326c55fa3d6f10ebe253 -0.177678 -1.431182 -0.542431\n",
      "6711f493bfc7c4e11953872d  1.097164 -1.070038 -2.145433\n",
      "671469967e2a4f2e612e3846 -1.691241 -1.171517 -0.819168\n",
      "6722ca2b1f3ebd2d544608c3  0.335230 -1.405308 -0.812747\n",
      "\n",
      "[98 rows x 3 columns]\n"
     ]
    }
   ],
   "source": [
    "#draw a PCA plot\n",
    "#first, put the new coordinates created by pca.transform(scaled.data)\n",
    "#into a matrix where the rows have the participant ids and the columns have PC labels\n",
    "pca_df = pd.DataFrame(pca_data, index=ids,columns=labels)\n",
    "print(pca_df)\n",
    "pca_df.to_csv('wtp_rej_PCA_allsubjects.csv')"
   ]
  },
  {
   "cell_type": "code",
   "execution_count": 24,
   "id": "e60a5187",
   "metadata": {},
   "outputs": [
    {
     "data": {
      "image/png": "[encoded data removed]",
      "text/plain": [
       "<Figure size 1080x1080 with 1 Axes>"
      ]
     },
     "metadata": {
      "needs_background": "light"
     },
     "output_type": "display_data"
    },
    {
     "data": {
      "text/plain": [
       "<Figure size 432x288 with 0 Axes>"
      ]
     },
     "metadata": {},
     "output_type": "display_data"
    }
   ],
   "source": [
    "#Visualize the distribution of the samples\n",
    "#draw a scatter plot\n",
    "plt.figure(figsize=(15,15))\n",
    "plt.scatter(pca_df.PC1,pca_df.PC2)\n",
    "plt.title('My PCA Graph')\n",
    "plt.xlabel('PC1 - {0}%'.format(per_var[0]))\n",
    "plt.ylabel('PC2 - {0}%'.format(per_var[1]))\n",
    "#add sample names to graph\n",
    "# for sample in pca_df.index:\n",
    "#     plt.annotate(sample,(pca_df.PC1.loc[sample],pca_df.PC2.loc[sample]))\n",
    "plt.show()\n",
    "plt.savefig('PCAscatterplotall.png')"
   ]
  },
  {
   "cell_type": "code",
   "execution_count": 25,
   "id": "5282335a",
   "metadata": {},
   "outputs": [
    {
     "name": "stdout",
     "output_type": "stream",
     "text": [
      "aq                   0.427662\n",
      "ntbs                -0.008253\n",
      "rsq                  0.264370\n",
      "scs                 -0.466723\n",
      "srqadmiration       -0.260149\n",
      "srqnegativesocpot   -0.014867\n",
      "srqsexualbehavior   -0.344518\n",
      "srqprosocial        -0.164015\n",
      "srqsociability      -0.431489\n",
      "mspss               -0.360057\n",
      "dtype: float64\n",
      "['scs' 'srqsociability' 'aq' 'mspss' 'srqsexualbehavior' 'rsq'\n",
      " 'srqadmiration' 'srqprosocial' 'srqnegativesocpot' 'ntbs']\n"
     ]
    }
   ],
   "source": [
    "###All measures and their loading scores for PC 1\n",
    "\n",
    "#create series obj w/ the loading scores in PC1\n",
    "loading_scores = pd.Series(pca.components_[0], index=measures)\n",
    "print(loading_scores)\n",
    "#sort loading scores based on their magnitude(absolute value)\n",
    "sorted_loading_scores = loading_scores.abs().sort_values(ascending=False)\n",
    "#get the names of the top 10 indexes (measure names )\n",
    "top_measures = sorted_loading_scores.index.values\n",
    "print(top_measures)"
   ]
  },
  {
   "cell_type": "code",
   "execution_count": 26,
   "id": "5c1c578c",
   "metadata": {},
   "outputs": [
    {
     "name": "stdout",
     "output_type": "stream",
     "text": [
      "scs                 -0.466723\n",
      "srqsociability      -0.431489\n",
      "aq                   0.427662\n",
      "mspss               -0.360057\n",
      "srqsexualbehavior   -0.344518\n",
      "rsq                  0.264370\n",
      "srqadmiration       -0.260149\n",
      "srqprosocial        -0.164015\n",
      "srqnegativesocpot   -0.014867\n",
      "ntbs                -0.008253\n",
      "dtype: float64\n",
      "        scs  srqsociability        aq     mspss  srqsexualbehavior      rsq  \\\n",
      "0 -0.466723       -0.431489  0.427662 -0.360057          -0.344518  0.26437   \n",
      "\n",
      "   srqadmiration  srqprosocial  srqnegativesocpot      ntbs  \n",
      "0      -0.260149     -0.164015          -0.014867 -0.008253  \n"
     ]
    }
   ],
   "source": [
    "#PC1 - top 10 measures and their corresponding loading scores\n",
    "print(loading_scores[top_measures])\n",
    "PC1 = pd.DataFrame(loading_scores[top_measures]).transpose()\n",
    "print(PC1)\n",
    "# PC1.to_csv('PC1.csv')"
   ]
  },
  {
   "cell_type": "code",
   "execution_count": 27,
   "id": "6d8ab61f",
   "metadata": {},
   "outputs": [
    {
     "name": "stdout",
     "output_type": "stream",
     "text": [
      "aq                  -0.050760\n",
      "ntbs                -0.161646\n",
      "rsq                  0.131364\n",
      "scs                  0.148123\n",
      "srqadmiration       -0.301188\n",
      "srqnegativesocpot    0.645607\n",
      "srqsexualbehavior    0.185717\n",
      "srqprosocial        -0.605939\n",
      "srqsociability       0.146456\n",
      "mspss               -0.038371\n",
      "dtype: float64\n"
     ]
    }
   ],
   "source": [
    "###ALL measures and their loading scores for PC 2\n",
    "#look at the loading scores for PC2 to determine which measures had the largest influence\n",
    "#... on separating the two clusters along the x-axis\n",
    "#create series obj w/ the loading scores in PC1\n",
    "loading_scores = pd.Series(pca.components_[1], index=measures)\n",
    "print(loading_scores)\n",
    "#sort loading scores based on their magnitude(absolute value)\n",
    "sorted_loading_scores = loading_scores.abs().sort_values(ascending=False)\n",
    "#get the names of the top 10 indexes (measure names )\n",
    "top_measures = sorted_loading_scores.index.values"
   ]
  },
  {
   "cell_type": "code",
   "execution_count": 28,
   "id": "8a517508",
   "metadata": {},
   "outputs": [
    {
     "name": "stdout",
     "output_type": "stream",
     "text": [
      "srqnegativesocpot    0.645607\n",
      "srqprosocial        -0.605939\n",
      "srqadmiration       -0.301188\n",
      "srqsexualbehavior    0.185717\n",
      "ntbs                -0.161646\n",
      "scs                  0.148123\n",
      "srqsociability       0.146456\n",
      "rsq                  0.131364\n",
      "aq                  -0.050760\n",
      "mspss               -0.038371\n",
      "dtype: float64\n"
     ]
    }
   ],
   "source": [
    "#PC2 -  top 10 measures and their corresponding loading scores\n",
    "print(loading_scores[top_measures])\n",
    "PC2 = pd.DataFrame(loading_scores[top_measures]).transpose()\n",
    "# print(PC2.columns)"
   ]
  },
  {
   "cell_type": "code",
   "execution_count": 29,
   "id": "4ead3ab7",
   "metadata": {},
   "outputs": [
    {
     "name": "stdout",
     "output_type": "stream",
     "text": [
      "aq                  -0.238239\n",
      "ntbs                -0.592975\n",
      "rsq                 -0.249456\n",
      "scs                  0.216209\n",
      "srqadmiration       -0.546137\n",
      "srqnegativesocpot   -0.283207\n",
      "srqsexualbehavior   -0.282712\n",
      "srqprosocial         0.023696\n",
      "srqsociability      -0.127578\n",
      "mspss                0.086093\n",
      "dtype: float64\n"
     ]
    }
   ],
   "source": [
    "###All measures and their loading scores for PC 3\n",
    "\n",
    "#look at the loading scores for PC2 to determine which measures had the largest influence\n",
    "#... on separating the two clusters along the x-axis\n",
    "#create series obj w/ the loading scores in PC1\n",
    "loading_scores = pd.Series(pca.components_[2], index=measures)\n",
    "print(loading_scores)\n",
    "#sort loading scores based on their magnitude(absolute value)\n",
    "sorted_loading_scores = loading_scores.abs().sort_values(ascending=False)\n",
    "#get the names of the top 10 indexes (measure names )\n",
    "top_measures = sorted_loading_scores.index.values"
   ]
  },
  {
   "cell_type": "code",
   "execution_count": 30,
   "id": "21a0c187",
   "metadata": {},
   "outputs": [
    {
     "name": "stdout",
     "output_type": "stream",
     "text": [
      "ntbs                -0.592975\n",
      "srqadmiration       -0.546137\n",
      "srqnegativesocpot   -0.283207\n",
      "srqsexualbehavior   -0.282712\n",
      "rsq                 -0.249456\n",
      "aq                  -0.238239\n",
      "scs                  0.216209\n",
      "srqsociability      -0.127578\n",
      "mspss                0.086093\n",
      "srqprosocial         0.023696\n",
      "dtype: float64\n",
      "Index(['ntbs', 'srqadmiration', 'srqnegativesocpot', 'srqsexualbehavior',\n",
      "       'rsq', 'aq', 'scs', 'srqsociability', 'mspss', 'srqprosocial'],\n",
      "      dtype='object')\n"
     ]
    }
   ],
   "source": [
    "#PC 3 print top 10 measures and their corresponding loading scores\n",
    "print(loading_scores[top_measures])\n",
    "PC3 = pd.DataFrame(loading_scores[top_measures]).transpose()\n",
    "print(PC3.columns)"
   ]
  },
  {
   "cell_type": "code",
   "execution_count": 32,
   "id": "83434ec9",
   "metadata": {},
   "outputs": [],
   "source": [
    "selfreports = ['Autism Quotient','Need to Belong','Rejection Sensitivity','Social Connectedness ','Social Reward - Admiration', 'Social Reward - Negsocpot','Social Reward - Sexual Behavior',\n",
    "               'Social Reward - Prosocial', 'Social Reward - Sociability', 'Social Support', ]"
   ]
  },
  {
   "cell_type": "code",
   "execution_count": 33,
   "id": "ce1eec31",
   "metadata": {},
   "outputs": [
    {
     "data": {
      "image/png": "[encoded data removed]",
      "text/plain": [
       "<Figure size 1800x2520 with 2 Axes>"
      ]
     },
     "metadata": {},
     "output_type": "display_data"
    }
   ],
   "source": [
    "sns.set(font_scale=1.5)\n",
    "fig, ax = plt.subplots(figsize=(25,35)) \n",
    "ax = sns.heatmap(pca.components_,\n",
    "                 cmap='RdBu_r',\n",
    "                 yticklabels=[ \"PCA\"+str(x) for x in range(1,pca.n_components_+1)],\n",
    "                 xticklabels=list(selfreports),\n",
    "                 cbar_kws={\"orientation\": \"horizontal\"})\n",
    "ax.set_aspect(\"equal\")\n",
    "plt.savefig('PCA_heatmap.png')"
   ]
  },
  {
   "cell_type": "code",
   "execution_count": null,
   "id": "0c699a69",
   "metadata": {},
   "outputs": [],
   "source": []
  }
 ],
 "metadata": {
  "kernelspec": {
   "display_name": "Python 3",
   "language": "python",
   "name": "python3"
  },
  "language_info": {
   "codemirror_mode": {
    "name": "ipython",
    "version": 3
   },
   "file_extension": ".py",
   "mimetype": "text/x-python",
   "name": "python",
   "nbconvert_exporter": "python",
   "pygments_lexer": "ipython3",
   "version": "3.8.10"
  }
 },
 "nbformat": 4,
 "nbformat_minor": 5
}
