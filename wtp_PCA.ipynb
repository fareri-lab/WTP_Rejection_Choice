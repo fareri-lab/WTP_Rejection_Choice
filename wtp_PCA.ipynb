{
 "cells": [
  {
   "cell_type": "code",
   "execution_count": 1,
   "id": "713a3c3e",
   "metadata": {},
   "outputs": [],
   "source": [
    "#import packages\n",
    "import os\n",
    "import pandas as pd\n",
    "import numpy as np\n",
    "from numpy import mean, std, cov \n",
    "from numpy.random import seed, randn\n",
    "import random as rd\n",
    "from sklearn import preprocessing\n",
    "from sklearn import datasets\n",
    "from sklearn.preprocessing import StandardScaler\n",
    "from sklearn.decomposition import PCA\n",
    "import matplotlib.pyplot as plt\n",
    "from matplotlib import pyplot\n",
    "from scipy.stats import spearmanr\n",
    "\n",
    "\n",
    "from __future__ import division \n",
    "import sys\n",
    "import scipy\n",
    "from math import sqrt\n",
    "import scipy.stats as stats \n",
    "from scipy.stats import t, pearsonr, sem\n",
    "import seaborn as sns\n",
    "from statistics import mean, stdev\n",
    "\n",
    "import statsmodels.api as sm\n",
    "import statsmodels.formula.api as smf"
   ]
  },
  {
   "cell_type": "code",
   "execution_count": 2,
   "id": "c00678a5",
   "metadata": {},
   "outputs": [
    {
     "name": "stdout",
     "output_type": "stream",
     "text": [
      "/Users/jordansiegel/opt/anaconda3/bin/python\n",
      "Requirement already satisfied: homebrew in /Users/jordansiegel/opt/anaconda3/lib/python3.8/site-packages (0.2.5)\n"
     ]
    }
   ],
   "source": [
    "print(sys.executable)\n",
    "!{sys.executable} -m pip install homebrew"
   ]
  },
  {
   "cell_type": "code",
   "execution_count": 3,
   "id": "630f145d",
   "metadata": {},
   "outputs": [
    {
     "name": "stdout",
     "output_type": "stream",
     "text": [
      "/Users/jordansiegel/Documents/GitHub/WTP_Rejection_Choice\n"
     ]
    }
   ],
   "source": [
    "#set paths\n",
    "\n",
    "current_dir = os.getcwd()\n",
    "print(current_dir)"
   ]
  },
  {
   "cell_type": "code",
   "execution_count": 4,
   "id": "225e8d6a",
   "metadata": {},
   "outputs": [],
   "source": [
    "#import the individual difference measure csvs\n",
    "#scoringpath = os.chdir('/mnt/disk01/farerilab/GitHub/WTP_Rejection_Choice/scoring')\n",
    "scoringpath = os.chdir('/users/jordansiegel/Documents/GitHub/WTP_Rejection_Choice/scoring')\n",
    "\n",
    "aq = pd.read_csv('aq.csv')\n",
    "ntbs = pd.read_csv('ntbs.csv')\n",
    "rsq = pd.read_csv('rsq.csv')\n",
    "scs = pd.read_csv('scs.csv')\n",
    "mspss = pd.read_csv('mspss.csv')\n",
    "brcs = pd.read_csv('brcs.csv')\n",
    "pss = pd.read_csv('pss.csv')\n",
    "srq = pd.read_csv('srq.csv')\n",
    "dii = pd.read_csv('DII.csv')\n",
    "rr = pd.read_csv('rr.csv')\n",
    "ucla = pd.read_csv('ucla.csv')"
   ]
  },
  {
   "cell_type": "code",
   "execution_count": 5,
   "id": "371240e4",
   "metadata": {},
   "outputs": [
    {
     "name": "stdout",
     "output_type": "stream",
     "text": [
      "                 Prolific_ID  NTBS_score\n",
      "0   59d5888d21977e0001d630f3          27\n",
      "1   5a09ebdf087f2e0001eae39f          32\n",
      "2   5c5c451500b69200011bb8bf          32\n",
      "3   5c9d004ee3b6c40015254526          32\n",
      "4   5cc3f0f9fdb33500018c5eeb          30\n",
      "..                       ...         ...\n",
      "93  67094d6215b6d0fe3e8c3e39          34\n",
      "94  670d326c55fa3d6f10ebe253          36\n",
      "95  6711f493bfc7c4e11953872d          41\n",
      "96  671469967e2a4f2e612e3846          34\n",
      "97  6722ca2b1f3ebd2d544608c3          33\n",
      "\n",
      "[98 rows x 2 columns]\n",
      "                 Prolific_ID  RSQ_finalscore\n",
      "0   59d5888d21977e0001d630f3          10.250\n",
      "1   5a09ebdf087f2e0001eae39f           9.000\n",
      "2   5c5c451500b69200011bb8bf          10.750\n",
      "3   5c9d004ee3b6c40015254526          16.875\n",
      "4   5cc3f0f9fdb33500018c5eeb           5.750\n",
      "..                       ...             ...\n",
      "93  67094d6215b6d0fe3e8c3e39           9.625\n",
      "94  670d326c55fa3d6f10ebe253           9.750\n",
      "95  6711f493bfc7c4e11953872d          12.375\n",
      "96  671469967e2a4f2e612e3846           9.375\n",
      "97  6722ca2b1f3ebd2d544608c3          11.500\n",
      "\n",
      "[98 rows x 2 columns]\n"
     ]
    }
   ],
   "source": [
    "print(ntbs)\n",
    "print(rsq)"
   ]
  },
  {
   "cell_type": "code",
   "execution_count": 6,
   "id": "1893839f",
   "metadata": {},
   "outputs": [
    {
     "data": {
      "image/png": "[encoded data removed]",
      "text/plain": [
       "<Figure size 432x288 with 1 Axes>"
      ]
     },
     "metadata": {
      "needs_background": "light"
     },
     "output_type": "display_data"
    },
    {
     "name": "stdout",
     "output_type": "stream",
     "text": [
      "[[25.5351357  -0.99704134]\n",
      " [-0.99704134 11.62944621]]\n",
      "Spearmans correlation: 0.015\n",
      "p value: 0.8856\n",
      "Spearman correlation = 0.015, p = 0.8856\n",
      "No significant monotonic association between NTBs and R².\n"
     ]
    }
   ],
   "source": [
    "# prop_socialchoice_ // AQ\n",
    "pyplot.scatter(ntbs['NTBS_score'],rsq['RSQ_finalscore'])\n",
    "pyplot.show()\n",
    "covariance = cov(ntbs['NTBS_score'],rsq['RSQ_finalscore'])\n",
    "print(covariance)\n",
    "corr, _ = spearmanr(ntbs['NTBS_score'],rsq['RSQ_finalscore'])\n",
    "print('Spearmans correlation: %.3f' % corr)\n",
    "r,p = scipy.stats.spearmanr(ntbs['NTBS_score'],rsq['RSQ_finalscore'])\n",
    "print('p value: %.4f' % p)\n",
    "\n",
    "print(f'Spearman correlation = {corr:.3f}, p = {p:.4f}')\n",
    "if p < 0.05:\n",
    "    print(\"There is a significant monotonic association between NTBs and R².\")\n",
    "else:\n",
    "    print(\"No significant monotonic association between NTBs and R².\")\n"
   ]
  },
  {
   "cell_type": "code",
   "execution_count": 7,
   "id": "3c753bcd",
   "metadata": {},
   "outputs": [
    {
     "name": "stdout",
     "output_type": "stream",
     "text": [
      "                          aq  ntbs     rsq  scs  srqadmiration  \\\n",
      "Prolific_ID                                                      \n",
      "59d5888d21977e0001d630f3  14    27  10.250  107           5.75   \n",
      "5a09ebdf087f2e0001eae39f  13    32   9.000   88           5.50   \n",
      "5c5c451500b69200011bb8bf  23    32  10.750   83           5.75   \n",
      "5c9d004ee3b6c40015254526   7    32  16.875   99           5.75   \n",
      "5cc3f0f9fdb33500018c5eeb  24    30   5.750   90           4.50   \n",
      "...                       ..   ...     ...  ...            ...   \n",
      "67094d6215b6d0fe3e8c3e39  16    34   9.625   98           6.00   \n",
      "670d326c55fa3d6f10ebe253  26    36   9.750   79           6.75   \n",
      "6711f493bfc7c4e11953872d  23    41  12.375   56           7.00   \n",
      "671469967e2a4f2e612e3846  16    34   9.375   87           7.00   \n",
      "6722ca2b1f3ebd2d544608c3  20    33  11.500   57           7.00   \n",
      "\n",
      "                          srqnegativesocpot  srqsexualbehavior  srqprosocial  \\\n",
      "Prolific_ID                                                                    \n",
      "59d5888d21977e0001d630f3                1.0           1.000000           7.0   \n",
      "5a09ebdf087f2e0001eae39f                1.4           3.666667           6.0   \n",
      "5c5c451500b69200011bb8bf                4.0           4.666667           5.0   \n",
      "5c9d004ee3b6c40015254526                2.2           4.000000           5.2   \n",
      "5cc3f0f9fdb33500018c5eeb                1.2           5.000000           7.0   \n",
      "...                                     ...                ...           ...   \n",
      "67094d6215b6d0fe3e8c3e39                2.4           5.666667           6.0   \n",
      "670d326c55fa3d6f10ebe253                1.4           2.333333           6.8   \n",
      "6711f493bfc7c4e11953872d                2.0           3.333333           6.8   \n",
      "671469967e2a4f2e612e3846                1.0           6.333333           7.0   \n",
      "6722ca2b1f3ebd2d544608c3                1.4           3.000000           7.0   \n",
      "\n",
      "                          srqsociability     mspss  \n",
      "Prolific_ID                                         \n",
      "59d5888d21977e0001d630f3        5.000000  4.083333  \n",
      "5a09ebdf087f2e0001eae39f        4.333333  6.333333  \n",
      "5c5c451500b69200011bb8bf        5.666667  6.333333  \n",
      "5c9d004ee3b6c40015254526        4.666667  6.166667  \n",
      "5cc3f0f9fdb33500018c5eeb        4.000000  5.916667  \n",
      "...                                  ...       ...  \n",
      "67094d6215b6d0fe3e8c3e39        5.666667  4.333333  \n",
      "670d326c55fa3d6f10ebe253        5.333333  6.583333  \n",
      "6711f493bfc7c4e11953872d        5.000000  3.500000  \n",
      "671469967e2a4f2e612e3846        6.666667  4.666667  \n",
      "6722ca2b1f3ebd2d544608c3        6.000000  4.250000  \n",
      "\n",
      "[98 rows x 10 columns]\n"
     ]
    }
   ],
   "source": [
    "wtp_pca = ''\n",
    "wtp_pca = pd.DataFrame()\n",
    "wtp_pca['Prolific_ID'] = aq['Prolific_ID']\n",
    "wtp_pca['aq'] = aq['AQ']\n",
    "wtp_pca['ntbs'] = ntbs['NTBS_score']\n",
    "wtp_pca['rsq'] = rsq['RSQ_finalscore']\n",
    "wtp_pca['scs'] = scs['SCS_score']\n",
    "wtp_pca['srqadmiration'] = srq['SRQ_admiration']\n",
    "wtp_pca['srqnegativesocpot'] = srq['SRQ_negsocpot']\n",
    "wtp_pca['srqsexualbehavior'] = srq['SRQ_sexrel']\n",
    "wtp_pca['srqprosocial'] = srq['SRQ_prosocint']\n",
    "wtp_pca['srqsociability'] = srq['SRQ_sociability']\n",
    "wtp_pca['mspss'] = mspss['MSPSS_score']\n",
    "ids = wtp_pca['Prolific_ID']\n",
    "\n",
    "wtp_pca = pd.DataFrame(data=wtp_pca)\n",
    "wtp_pca = wtp_pca.drop(['Prolific_ID'], axis =1)\n",
    "wtp_pca.index = ids\n",
    "measures = wtp_pca.columns\n",
    "print(wtp_pca)"
   ]
  },
  {
   "cell_type": "code",
   "execution_count": 8,
   "id": "5dbbe071",
   "metadata": {},
   "outputs": [
    {
     "name": "stdout",
     "output_type": "stream",
     "text": [
      "98\n"
     ]
    }
   ],
   "source": [
    "#sample size\n",
    "sample_size = len(wtp_pca)\n",
    "print(sample_size\n",
    "     )"
   ]
  },
  {
   "cell_type": "code",
   "execution_count": 9,
   "id": "c7eb2e75",
   "metadata": {},
   "outputs": [
    {
     "name": "stdout",
     "output_type": "stream",
     "text": [
      "Prolific_ID        59d5888d21977e0001d630f3  5a09ebdf087f2e0001eae39f  \\\n",
      "aq                                14.000000                 13.000000   \n",
      "ntbs                              27.000000                 32.000000   \n",
      "rsq                               10.250000                  9.000000   \n",
      "scs                              107.000000                 88.000000   \n",
      "srqadmiration                      5.750000                  5.500000   \n",
      "srqnegativesocpot                  1.000000                  1.400000   \n",
      "srqsexualbehavior                  1.000000                  3.666667   \n",
      "srqprosocial                       7.000000                  6.000000   \n",
      "srqsociability                     5.000000                  4.333333   \n",
      "mspss                              4.083333                  6.333333   \n",
      "\n",
      "Prolific_ID        5c5c451500b69200011bb8bf  5c9d004ee3b6c40015254526  \\\n",
      "aq                                23.000000                  7.000000   \n",
      "ntbs                              32.000000                 32.000000   \n",
      "rsq                               10.750000                 16.875000   \n",
      "scs                               83.000000                 99.000000   \n",
      "srqadmiration                      5.750000                  5.750000   \n",
      "srqnegativesocpot                  4.000000                  2.200000   \n",
      "srqsexualbehavior                  4.666667                  4.000000   \n",
      "srqprosocial                       5.000000                  5.200000   \n",
      "srqsociability                     5.666667                  4.666667   \n",
      "mspss                              6.333333                  6.166667   \n",
      "\n",
      "Prolific_ID        5cc3f0f9fdb33500018c5eeb  5ddce9f0f85b50c4fc1515a4  \\\n",
      "aq                                24.000000                    17.000   \n",
      "ntbs                              30.000000                    36.000   \n",
      "rsq                                5.750000                    10.625   \n",
      "scs                               90.000000                    75.000   \n",
      "srqadmiration                      4.500000                     4.500   \n",
      "srqnegativesocpot                  1.200000                     2.200   \n",
      "srqsexualbehavior                  5.000000                     4.000   \n",
      "srqprosocial                       7.000000                     6.000   \n",
      "srqsociability                     4.000000                     5.000   \n",
      "mspss                              5.916667                     5.000   \n",
      "\n",
      "Prolific_ID        5de8613ddf86d37c8a8ab294  5e923888c38d4a574e72d716  \\\n",
      "aq                                 5.000000                 34.000000   \n",
      "ntbs                              27.000000                 25.000000   \n",
      "rsq                                7.000000                 16.000000   \n",
      "scs                              115.000000                 35.000000   \n",
      "srqadmiration                      4.000000                  4.250000   \n",
      "srqnegativesocpot                  1.000000                  1.400000   \n",
      "srqsexualbehavior                  4.666667                  2.000000   \n",
      "srqprosocial                       7.000000                  6.800000   \n",
      "srqsociability                     5.333333                  3.333333   \n",
      "mspss                              7.000000                  2.083333   \n",
      "\n",
      "Prolific_ID        5efe8c25e921d23a9daec079  5f0f5df48a1b1a114c3dacc5  ...  \\\n",
      "aq                                15.000000                 30.000000  ...   \n",
      "ntbs                              28.000000                 37.000000  ...   \n",
      "rsq                                5.500000                 17.500000  ...   \n",
      "scs                               93.000000                 64.000000  ...   \n",
      "srqadmiration                      5.500000                  5.000000  ...   \n",
      "srqnegativesocpot                  1.400000                  1.600000  ...   \n",
      "srqsexualbehavior                  5.000000                  4.000000  ...   \n",
      "srqprosocial                       6.600000                  7.000000  ...   \n",
      "srqsociability                     3.333333                  4.666667  ...   \n",
      "mspss                              7.000000                  3.916667  ...   \n",
      "\n",
      "Prolific_ID        66f2946d0e3eeda7aa13eaa7  66f42a85953065aa4cc9d751  \\\n",
      "aq                                25.000000                 31.000000   \n",
      "ntbs                              35.000000                 38.000000   \n",
      "rsq                               12.250000                  9.375000   \n",
      "scs                               61.000000                 73.000000   \n",
      "srqadmiration                      4.500000                  6.000000   \n",
      "srqnegativesocpot                  3.800000                  2.200000   \n",
      "srqsexualbehavior                  5.000000                  4.333333   \n",
      "srqprosocial                       3.800000                  6.200000   \n",
      "srqsociability                     4.000000                  4.000000   \n",
      "mspss                              4.083333                  6.083333   \n",
      "\n",
      "Prolific_ID        66f899c9525316803c5d75c0  6700d6aca79c6b2534f6292c  \\\n",
      "aq                                10.000000                 25.000000   \n",
      "ntbs                              36.000000                 40.000000   \n",
      "rsq                                7.750000                 12.250000   \n",
      "scs                               93.000000                 78.000000   \n",
      "srqadmiration                      6.500000                  6.250000   \n",
      "srqnegativesocpot                  3.200000                  1.800000   \n",
      "srqsexualbehavior                  6.333333                  7.000000   \n",
      "srqprosocial                       6.200000                  6.600000   \n",
      "srqsociability                     6.000000                  6.333333   \n",
      "mspss                              5.666667                  5.916667   \n",
      "\n",
      "Prolific_ID        6704251bcdca04fef23d385d  67094d6215b6d0fe3e8c3e39  \\\n",
      "aq                                38.000000                 16.000000   \n",
      "ntbs                              33.000000                 34.000000   \n",
      "rsq                                8.375000                  9.625000   \n",
      "scs                               44.000000                 98.000000   \n",
      "srqadmiration                      3.750000                  6.000000   \n",
      "srqnegativesocpot                  1.000000                  2.400000   \n",
      "srqsexualbehavior                  1.000000                  5.666667   \n",
      "srqprosocial                       5.600000                  6.000000   \n",
      "srqsociability                     1.000000                  5.666667   \n",
      "mspss                              4.916667                  4.333333   \n",
      "\n",
      "Prolific_ID        670d326c55fa3d6f10ebe253  6711f493bfc7c4e11953872d  \\\n",
      "aq                                26.000000                 23.000000   \n",
      "ntbs                              36.000000                 41.000000   \n",
      "rsq                                9.750000                 12.375000   \n",
      "scs                               79.000000                 56.000000   \n",
      "srqadmiration                      6.750000                  7.000000   \n",
      "srqnegativesocpot                  1.400000                  2.000000   \n",
      "srqsexualbehavior                  2.333333                  3.333333   \n",
      "srqprosocial                       6.800000                  6.800000   \n",
      "srqsociability                     5.333333                  5.000000   \n",
      "mspss                              6.583333                  3.500000   \n",
      "\n",
      "Prolific_ID        671469967e2a4f2e612e3846  6722ca2b1f3ebd2d544608c3  \n",
      "aq                                16.000000                     20.00  \n",
      "ntbs                              34.000000                     33.00  \n",
      "rsq                                9.375000                     11.50  \n",
      "scs                               87.000000                     57.00  \n",
      "srqadmiration                      7.000000                      7.00  \n",
      "srqnegativesocpot                  1.000000                      1.40  \n",
      "srqsexualbehavior                  6.333333                      3.00  \n",
      "srqprosocial                       7.000000                      7.00  \n",
      "srqsociability                     6.666667                      6.00  \n",
      "mspss                              4.666667                      4.25  \n",
      "\n",
      "[10 rows x 98 columns]\n"
     ]
    }
   ],
   "source": [
    "#transpose dataframe so that the rows represent measures and columns represent each participant\n",
    "wtp_pca = wtp_pca.transpose()\n",
    "print(wtp_pca)"
   ]
  },
  {
   "cell_type": "code",
   "execution_count": 10,
   "id": "854be9c8",
   "metadata": {},
   "outputs": [
    {
     "name": "stdout",
     "output_type": "stream",
     "text": [
      "Prolific_ID    59d5888d21977e0001d630f3  5a09ebdf087f2e0001eae39f  \\\n",
      "aq                                14.00                      13.0   \n",
      "ntbs                              27.00                      32.0   \n",
      "rsq                               10.25                       9.0   \n",
      "scs                              107.00                      88.0   \n",
      "srqadmiration                      5.75                       5.5   \n",
      "\n",
      "Prolific_ID    5c5c451500b69200011bb8bf  5c9d004ee3b6c40015254526  \\\n",
      "aq                                23.00                     7.000   \n",
      "ntbs                              32.00                    32.000   \n",
      "rsq                               10.75                    16.875   \n",
      "scs                               83.00                    99.000   \n",
      "srqadmiration                      5.75                     5.750   \n",
      "\n",
      "Prolific_ID    5cc3f0f9fdb33500018c5eeb  5ddce9f0f85b50c4fc1515a4  \\\n",
      "aq                                24.00                    17.000   \n",
      "ntbs                              30.00                    36.000   \n",
      "rsq                                5.75                    10.625   \n",
      "scs                               90.00                    75.000   \n",
      "srqadmiration                      4.50                     4.500   \n",
      "\n",
      "Prolific_ID    5de8613ddf86d37c8a8ab294  5e923888c38d4a574e72d716  \\\n",
      "aq                                  5.0                     34.00   \n",
      "ntbs                               27.0                     25.00   \n",
      "rsq                                 7.0                     16.00   \n",
      "scs                               115.0                     35.00   \n",
      "srqadmiration                       4.0                      4.25   \n",
      "\n",
      "Prolific_ID    5efe8c25e921d23a9daec079  5f0f5df48a1b1a114c3dacc5  ...  \\\n",
      "aq                                 15.0                      30.0  ...   \n",
      "ntbs                               28.0                      37.0  ...   \n",
      "rsq                                 5.5                      17.5  ...   \n",
      "scs                                93.0                      64.0  ...   \n",
      "srqadmiration                       5.5                       5.0  ...   \n",
      "\n",
      "Prolific_ID    66f2946d0e3eeda7aa13eaa7  66f42a85953065aa4cc9d751  \\\n",
      "aq                                25.00                    31.000   \n",
      "ntbs                              35.00                    38.000   \n",
      "rsq                               12.25                     9.375   \n",
      "scs                               61.00                    73.000   \n",
      "srqadmiration                      4.50                     6.000   \n",
      "\n",
      "Prolific_ID    66f899c9525316803c5d75c0  6700d6aca79c6b2534f6292c  \\\n",
      "aq                                10.00                     25.00   \n",
      "ntbs                              36.00                     40.00   \n",
      "rsq                                7.75                     12.25   \n",
      "scs                               93.00                     78.00   \n",
      "srqadmiration                      6.50                      6.25   \n",
      "\n",
      "Prolific_ID    6704251bcdca04fef23d385d  67094d6215b6d0fe3e8c3e39  \\\n",
      "aq                               38.000                    16.000   \n",
      "ntbs                             33.000                    34.000   \n",
      "rsq                               8.375                     9.625   \n",
      "scs                              44.000                    98.000   \n",
      "srqadmiration                     3.750                     6.000   \n",
      "\n",
      "Prolific_ID    670d326c55fa3d6f10ebe253  6711f493bfc7c4e11953872d  \\\n",
      "aq                                26.00                    23.000   \n",
      "ntbs                              36.00                    41.000   \n",
      "rsq                                9.75                    12.375   \n",
      "scs                               79.00                    56.000   \n",
      "srqadmiration                      6.75                     7.000   \n",
      "\n",
      "Prolific_ID    671469967e2a4f2e612e3846  6722ca2b1f3ebd2d544608c3  \n",
      "aq                               16.000                      20.0  \n",
      "ntbs                             34.000                      33.0  \n",
      "rsq                               9.375                      11.5  \n",
      "scs                              87.000                      57.0  \n",
      "srqadmiration                     7.000                       7.0  \n",
      "\n",
      "[5 rows x 98 columns]\n",
      "(10, 98)\n"
     ]
    }
   ],
   "source": [
    "#return 1st five values of dataframe\n",
    "print(wtp_pca.head())\n",
    "#return dimensions of our data matrix: 6 measures by 84 participants\n",
    "print(wtp_pca.shape)"
   ]
  },
  {
   "cell_type": "code",
   "execution_count": 11,
   "id": "e6b3496d",
   "metadata": {},
   "outputs": [
    {
     "name": "stdout",
     "output_type": "stream",
     "text": [
      "                          id         0         1         2         3  \\\n",
      "0   59d5888d21977e0001d630f3 -0.888180 -1.187375  0.119177  1.233081   \n",
      "1   5a09ebdf087f2e0001eae39f -1.019267 -0.192822 -0.249256  0.388033   \n",
      "2   5c5c451500b69200011bb8bf  0.291601 -0.192822  0.266549  0.165651   \n",
      "3   5c9d004ee3b6c40015254526 -1.805788 -0.192822  2.071868  0.877271   \n",
      "4   5cc3f0f9fdb33500018c5eeb  0.422688 -0.590643 -1.207180  0.476985   \n",
      "..                       ...       ...       ...       ...       ...   \n",
      "93  67094d6215b6d0fe3e8c3e39 -0.626006  0.205000 -0.065040  0.832795   \n",
      "94  670d326c55fa3d6f10ebe253  0.684862  0.602821 -0.028196 -0.012254   \n",
      "95  6711f493bfc7c4e11953872d  0.291601  1.597374  0.745511 -1.035207   \n",
      "96  671469967e2a4f2e612e3846 -0.626006  0.205000 -0.138726  0.343556   \n",
      "97  6722ca2b1f3ebd2d544608c3 -0.101659  0.006089  0.487609 -0.990731   \n",
      "\n",
      "           4         5         6         7         8         9  \n",
      "0   0.177451 -0.972716 -2.250759  0.910363  0.198312 -1.058940  \n",
      "1  -0.067481 -0.506573 -0.672409 -0.581537 -0.293702  0.848449  \n",
      "2   0.177451  2.523353 -0.080528 -2.073436  0.690325  0.848449  \n",
      "3   0.177451  0.425712 -0.475116 -1.775056 -0.047695  0.707161  \n",
      "4  -1.047209 -0.739644  0.116766  0.910363 -0.539709  0.495229  \n",
      "..       ...       ...       ...       ...       ...       ...  \n",
      "93  0.422383  0.658783  0.511353 -0.581537  0.690325 -0.847008  \n",
      "94  1.157178 -0.506573 -1.461584  0.611983  0.444318  1.060382  \n",
      "95  1.402110  0.192640 -0.869703  0.611983  0.198312 -1.553448  \n",
      "96  1.402110 -0.972716  0.905941  0.910363  1.428346 -0.564432  \n",
      "97  1.402110 -0.506573 -1.066997  0.910363  0.936332 -0.917652  \n",
      "\n",
      "[98 rows x 11 columns]\n"
     ]
    }
   ],
   "source": [
    "#STEP 1: before PCA, scale and center the data\n",
    "#Standardizarion ensures the range of the continous inital variables each equally contributes to the analysis\n",
    "scaled_wtp_pca = preprocessing.scale(wtp_pca.T)\n",
    "# print(scaled_data)\n",
    "#alternative function: StandardScaler().fit_transform(data.T)\n",
    "type(scaled_wtp_pca)\n",
    "scaled_wtp_pca_df = pd.DataFrame(data= scaled_wtp_pca)\n",
    "# print(scaled_df)\n",
    "scaled_wtp_pca_df.insert(0,'id',ids)\n",
    "print(scaled_wtp_pca_df)"
   ]
  },
  {
   "cell_type": "code",
   "execution_count": 12,
   "id": "172fd790",
   "metadata": {},
   "outputs": [
    {
     "name": "stdout",
     "output_type": "stream",
     "text": [
      "[[-2.39219476e-02 -1.14606887e+00  1.87254636e+00  8.21706677e-01\n",
      "   9.56236460e-01  1.89783292e+00 -8.91171193e-01 -1.76532609e-01\n",
      "   7.51803345e-01 -6.03362858e-01]\n",
      " [-5.07947410e-01 -4.71544903e-02  9.70395314e-01 -6.39200774e-01\n",
      "   6.82066351e-01 -6.38761555e-02 -4.27755357e-01 -8.28977329e-01\n",
      "  -4.43045638e-01 -1.25825319e-02]\n",
      " [-1.99765042e-01  2.96153373e+00 -8.38743601e-01 -1.67050811e-01\n",
      "   4.33089233e-01 -5.95148863e-01 -1.40175047e+00 -6.53637799e-02\n",
      "   3.16264834e-02  2.60011783e-01]\n",
      " [-4.64088534e-01  1.69955837e+00  1.59131043e-01  3.12281984e-01\n",
      "   2.26772598e+00  4.90933647e-01  3.97950784e-02 -1.73845140e+00\n",
      "  -8.73516628e-01 -2.34044936e-01]\n",
      " [-2.07667272e-01 -8.04005073e-01  1.53524625e+00 -3.89883416e-01\n",
      "  -6.22469999e-01 -8.80632197e-01  3.60602556e-01  7.05836354e-01\n",
      "   4.34604405e-01 -2.37345985e-01]\n",
      " [ 4.73928094e-01  8.23933308e-01  1.84365110e-01 -7.95279866e-01\n",
      "   4.94623013e-01  6.46158834e-01  3.50145754e-01  8.02739162e-02\n",
      "   1.83453208e-02  5.44371199e-01]\n",
      " [-2.24583853e+00 -2.98717648e-01  2.97380187e+00 -2.58177956e-01\n",
      "   6.72302059e-01 -1.00040597e-01  7.30364579e-01 -5.99824667e-02\n",
      "   1.12479714e-01  4.46366839e-01]\n",
      " [ 4.40482622e+00 -5.47339477e-01  8.75845448e-01  2.01653007e+00\n",
      "  -2.06067050e-01  1.10348404e+00  3.20920925e-01  5.64999542e-01\n",
      "   3.09940790e-01  2.75905249e-01]\n",
      " [-1.06951776e+00 -5.60035775e-01  1.62606652e+00 -4.17426964e-01\n",
      "  -3.47023606e-01 -1.29387769e+00 -2.68109659e-01 -8.81016662e-01\n",
      "   1.96174467e-01 -2.05911451e-01]\n",
      " [ 2.04020919e+00 -6.04745628e-01 -1.03268213e+00  9.66443892e-01\n",
      "   1.16120077e+00  6.27842461e-01  1.14807735e+00  9.41848671e-01\n",
      "   2.30955101e-01  9.75660507e-02]\n",
      " [ 1.18864204e+00 -6.34997440e-01 -1.09719746e+00 -5.05416772e-01\n",
      "  -2.77895938e-02  1.09808037e+00  1.54149624e+00 -1.70004764e-01\n",
      "   3.62018070e-02 -5.41267521e-02]\n",
      " [ 6.07192112e-01 -8.25013455e-01 -7.76227648e-01 -8.60038528e-01\n",
      "  -1.83165021e-01 -5.43656192e-01  9.57363264e-01 -1.02749445e+00\n",
      "   2.25536606e-01 -2.91563933e-02]\n",
      " [-2.11758409e+00 -4.42248054e-01  2.58445830e+00 -8.46338530e-01\n",
      "  -1.71726406e-03  1.18726179e-01  7.68515733e-01  4.32088569e-01\n",
      "   3.37011710e-01  5.06937817e-02]\n",
      " [-2.41725502e+00 -3.09407527e-01  1.22225726e-01  7.10838518e-01\n",
      "  -6.03776578e-03  4.39211973e-01  8.58885807e-01  2.75859304e-01\n",
      "  -7.12392368e-02 -3.55112934e-01]\n",
      " [ 2.81248980e-01  1.78550865e+00 -8.69603862e-01  8.34747106e-01\n",
      "   8.44741033e-01 -1.30648036e+00  4.48853362e-01 -4.63159051e-01\n",
      "   9.76754215e-01 -2.04442552e-01]\n",
      " [ 1.74590356e+00 -2.65708084e+00 -1.83832966e+00 -1.35949914e+00\n",
      "  -3.54273229e-02 -1.04267031e+00  8.25328007e-02 -1.05458508e+00\n",
      "   3.00494711e-02  5.71299375e-01]\n",
      " [-8.75561114e-01  1.29722121e+00 -5.04735743e-01  5.44626734e-01\n",
      "   1.00943730e+00 -9.03539479e-01  5.29113853e-01  3.77156201e-01\n",
      "  -2.10640719e-01  2.39329052e-01]\n",
      " [-7.23973150e-01  1.44058668e+00  1.13259392e+00  1.79255098e-01\n",
      "   5.93707768e-01  4.29716278e-01 -4.86135799e-01 -3.65059347e-01\n",
      "  -1.77390666e-01  4.28677381e-01]\n",
      " [-1.93866803e+00 -1.44880434e+00  2.85757643e-01 -2.55235469e+00\n",
      "   4.94640029e-01 -5.61220981e-01  5.23622029e-02  5.23658844e-01\n",
      "   8.86627977e-01 -7.99346876e-01]\n",
      " [-2.69544443e+00 -1.47032220e+00 -6.90872157e-01 -3.54975646e-01\n",
      "  -1.23115136e+00 -8.20940772e-01 -7.28016699e-01  1.21722720e+00\n",
      "  -7.23573783e-01  9.77775579e-02]\n",
      " [ 1.69401475e+00  1.19025662e-01  1.44158348e+00  9.46945378e-01\n",
      "   4.69585504e-01 -1.47183709e+00  1.19322468e+00 -5.82027955e-01\n",
      "   1.42617364e-02  2.68247529e-01]\n",
      " [-7.27302962e-01  1.04553082e+00 -7.87914520e-01 -4.57808502e-01\n",
      "  -1.05449482e+00 -1.02456861e-01 -7.39277456e-01  5.41101577e-01\n",
      "  -2.47900459e-01  5.84660928e-02]\n",
      " [ 7.49914473e-01  5.62273059e-01 -4.27545635e-01 -2.39319479e-01\n",
      "   2.99225891e-01  9.94521740e-01 -4.79431251e-01 -2.83182841e-01\n",
      "   3.87787332e-01 -1.24610583e-01]\n",
      " [ 1.79049056e+00 -2.19918820e+00 -1.91045516e+00 -3.85488880e-02\n",
      "   1.13805679e-01  3.10953202e-01  2.35887896e-01 -4.09562573e-01\n",
      "   2.11732754e-01 -5.95334152e-01]\n",
      " [-1.64696732e-01  1.07989700e+00  5.69689046e-01 -1.55157200e-01\n",
      "   5.33638622e-01 -2.10150790e-01  4.68518495e-01  4.02462839e-01\n",
      "  -7.50154313e-01  6.24363352e-03]\n",
      " [-1.88723000e+00  1.97932309e+00  3.48177732e-01  6.97839450e-01\n",
      "   4.48991350e-01 -2.71996318e-01  1.07528665e+00 -8.72198326e-02\n",
      "   1.03287729e+00  4.26708531e-01]\n",
      " [ 3.33096323e-02  5.69027883e-01 -7.37715163e-01  3.90657661e-01\n",
      "  -5.21003223e-01  5.90036596e-01 -4.10434236e-01  9.29530418e-01\n",
      "  -3.45163437e-01 -6.63840903e-01]\n",
      " [-2.90266192e-01  4.46077051e-01  7.04482325e-01 -4.34288063e-01\n",
      "  -1.35721435e-01 -1.09409294e+00 -6.89181390e-01 -1.78600926e-01\n",
      "  -4.49571706e-01  6.32447119e-01]\n",
      " [ 3.78372186e-01  1.47356493e-01 -5.76910810e-01  1.52119456e+00\n",
      "  -4.83403310e-01 -6.02540331e-01  8.63405669e-01 -6.35472816e-01\n",
      "  -1.71012701e-01  3.72017375e-02]\n",
      " [ 1.55550737e+00  1.20495931e-01  1.28067874e+00 -5.86326828e-01\n",
      "  -1.72302086e+00  1.40033280e+00 -8.62377055e-02 -1.06860948e+00\n",
      "  -5.00193333e-01 -3.10425143e-01]\n",
      " [ 1.63249938e+00  1.07657222e+00  6.09268705e-01 -8.68228224e-01\n",
      "  -1.79397661e+00  3.01887538e+00  8.82995042e-01 -1.18727057e-01\n",
      "  -2.74790967e-01 -6.29761241e-01]\n",
      " [-1.18764956e+00  1.42591179e+00  3.50583024e-01 -7.50069422e-01\n",
      "  -5.42220005e-01  8.09785290e-01 -8.84607776e-01 -1.85528949e-01\n",
      "  -2.54398082e-01  6.28324213e-01]\n",
      " [-2.24873956e+00 -7.05953573e-01 -8.57144774e-01 -3.98882053e-02\n",
      "   1.31318588e+00  3.70918862e-02  7.03236876e-01  4.03284375e-01\n",
      "  -1.72702767e-01 -8.78911714e-02]\n",
      " [-1.68764342e+00 -1.33736560e+00 -1.59216381e-01  4.45434834e-01\n",
      "  -1.45991497e+00 -3.01253424e-01 -8.46289076e-02  1.17864847e-01\n",
      "  -8.22622498e-02 -9.98325670e-01]\n",
      " [-1.50183388e+00 -5.86609023e-03 -6.70991266e-01  7.64249027e-01\n",
      "   8.19916353e-01  3.92289016e-01  1.95290799e-02  5.28837327e-01\n",
      "   1.82074902e-02  1.63812526e-01]\n",
      " [ 6.14173159e-01 -1.64394352e+00 -5.83094828e-01  8.50850722e-01\n",
      "   3.47384162e-01 -5.41864067e-01  8.21027173e-02 -4.72361892e-01\n",
      "   2.29761209e-02 -7.46943182e-01]\n",
      " [ 1.41616936e+00 -3.36339465e-01 -6.66833448e-01 -6.49883407e-02\n",
      "  -6.50720979e-01  3.99280819e-01  2.20589384e-01 -1.64881012e-01\n",
      "  -1.88215781e-01  7.45076848e-01]\n",
      " [ 1.94451663e+00 -2.11050214e+00  6.71937444e-01  6.05842009e-01\n",
      "  -1.60171179e+00  8.28702328e-01 -1.51353034e+00 -5.92015277e-01\n",
      "   2.39554396e-01  6.81689850e-01]\n",
      " [-3.61201458e+00  4.37008757e-01  1.26370742e+00  1.36795149e+00\n",
      "  -6.52616986e-01 -6.26020195e-01 -6.10967287e-01 -7.51800549e-01\n",
      "   3.03759817e-01 -1.94134760e-01]\n",
      " [ 5.35865764e-02 -1.41390836e+00  1.28964086e-02 -1.60765395e+00\n",
      "   8.71376450e-02 -6.63609200e-01  1.62538753e+00 -5.95127940e-01\n",
      "   1.13184701e-01  5.52250368e-01]\n",
      " [-2.26928533e+00 -1.02841621e+00 -6.95385375e-02  6.35728360e-01\n",
      "   1.74210311e-01 -3.87836008e-01  7.02600224e-01 -8.67621064e-01\n",
      "  -8.68915687e-01  8.03995540e-01]\n",
      " [-1.45522745e+00  2.61410437e-01 -1.06118584e+00 -5.01987078e-01\n",
      "   1.31385664e+00  1.02424597e+00 -6.58417190e-01 -1.92911024e-01\n",
      "  -2.73731427e-01 -3.01209380e-01]\n",
      " [-2.29720746e-01 -9.45882339e-02 -8.27826817e-01  1.08917700e+00\n",
      "   4.16581901e-01  3.93772861e-01 -5.83675934e-01  4.13769941e-01\n",
      "  -1.56853700e-01 -8.00444244e-01]\n",
      " [-1.43731638e+00  1.35478613e+00 -1.90367894e-01 -3.40599480e-01\n",
      "  -9.20148197e-02  2.92139532e-01 -4.05505968e-01  2.56437585e-01\n",
      "  -1.18084361e+00 -1.08807638e-01]\n",
      " [ 2.70161217e-01 -1.45634207e-01  1.14431449e-01 -9.64979135e-01\n",
      "   2.59901305e-01 -9.91695827e-02 -5.62448884e-01 -1.49844544e+00\n",
      "   6.32347932e-01  8.77695451e-02]\n",
      " [-1.08250700e-01 -3.14252516e-01 -5.38284692e-02  9.71565338e-01\n",
      "  -2.10634841e+00 -4.38286550e-01 -1.06875441e-01  2.95447864e-01\n",
      "  -6.14233406e-01  5.40183092e-01]\n",
      " [-1.61146703e+00  1.38905484e+00  7.50746707e-01  3.58913568e-02\n",
      "  -3.69305744e-01 -3.95584875e-01 -4.32746986e-01 -3.04713984e-01\n",
      "  -3.70073842e-01  1.42990779e-01]\n",
      " [ 4.01951137e+00 -1.24489425e+00  1.29280448e+00  1.73037185e+00\n",
      "  -1.83588394e-01  9.63801058e-01 -1.81482695e-01 -5.89785766e-01\n",
      "   2.93644613e-01  8.68724141e-02]\n",
      " [ 1.88406086e+00  6.32471534e-01  1.80424917e-01 -4.18007835e-01\n",
      "  -1.73139312e+00 -2.67422011e-01  1.02084199e+00  2.20166683e-01\n",
      "  -1.10783477e+00 -7.13466115e-02]\n",
      " [ 1.42451086e+00 -1.02808542e+00  2.57257814e-01  7.64762485e-01\n",
      "  -6.35051089e-01  1.09608505e+00  5.65845199e-01 -6.70863268e-02\n",
      "   3.70279044e-02 -3.55006837e-01]\n",
      " [ 2.50399139e-01 -1.53406294e+00 -4.79758645e-01  7.80488941e-01\n",
      "   1.24115711e+00 -8.97990304e-01 -8.01327532e-01  2.44114847e-01\n",
      "   2.54569234e-02 -4.68599147e-01]\n",
      " [ 3.42693833e-01 -1.64822595e+00 -8.77380556e-01  6.51744426e-01\n",
      "  -7.21919822e-01 -1.64107142e+00  6.65378370e-01 -7.40260076e-01\n",
      "  -2.78597734e-01 -5.51084987e-01]\n",
      " [ 5.51490037e+00 -7.33108401e-01  8.21188601e-01  1.81842317e+00\n",
      "   2.15924626e+00 -1.89138533e+00  4.79708533e-01  1.01237949e+00\n",
      "  -4.22014348e-01  3.59524479e-02]\n",
      " [-2.70857049e-02  1.07425602e-01 -1.80843029e+00  3.41850733e-01\n",
      "   3.54046862e-02  1.08144621e+00  7.17567312e-01 -4.63719702e-02\n",
      "   7.59386537e-01  2.25769160e-01]\n",
      " [ 7.01711309e-02  4.73422815e-02  3.10220734e+00  1.15658516e+00\n",
      "  -9.82030353e-01 -8.05602766e-01 -4.26641416e-02  1.58180677e-01\n",
      "   3.65443357e-02  6.03846896e-01]\n",
      " [ 8.32702759e-01 -2.14200738e+00 -1.20615951e+00 -7.18562102e-01\n",
      "  -1.64827192e+00 -1.56926134e+00  7.35714364e-02 -1.21438280e+00\n",
      "  -2.61036315e-01  4.25011939e-04]\n",
      " [ 2.04953076e+00 -2.13542187e+00  8.09571315e-02 -1.13231162e+00\n",
      "   9.97011567e-01 -9.47424557e-01 -9.48203070e-01  1.60699436e-02\n",
      "   1.01885926e+00 -5.20244370e-01]\n",
      " [-1.18753734e+00  9.47970441e-01  6.49322175e-01  6.78171988e-01\n",
      "  -9.58584063e-02 -3.00359289e-01  2.71854211e-01  2.19364238e-01\n",
      "  -3.54128692e-01 -1.58764141e-01]\n",
      " [-2.41143389e+00 -1.53553596e+00 -5.11292251e-01 -5.34758560e-01\n",
      "   5.24253743e-01  1.37397358e-01 -8.17093097e-02 -4.44580689e-01\n",
      "  -2.26353187e-01  1.70229204e-04]\n",
      " [-1.50005743e+00  2.41917485e-01  1.62041018e+00 -2.14501694e+00\n",
      "   3.36117392e-01 -1.51068089e-01  5.24423870e-01 -1.93529752e-01\n",
      "  -7.08033030e-01 -2.80713069e-01]\n",
      " [ 3.95036666e+00  3.83452463e+00 -2.15840577e-01  5.76547644e-01\n",
      "   1.06929923e+00 -3.67385590e-01  2.41315647e-01 -8.67467516e-01\n",
      "  -7.28049704e-01 -9.58100821e-01]\n",
      " [-1.03310821e+00 -1.54594649e+00  2.26105382e-01  1.39027968e-01\n",
      "   1.80048955e+00  1.26632408e+00 -1.41652614e+00 -6.58141807e-01\n",
      "  -2.20806915e-01  5.00318736e-01]\n",
      " [-1.46577582e+00 -3.28276451e-01  1.64075247e+00 -1.27697092e-01\n",
      "   1.52179085e+00  9.40399968e-02  6.35629109e-01  7.66738882e-01\n",
      "   5.54213595e-02  4.29225795e-01]\n",
      " [ 4.29398315e-01 -5.43130397e-01 -6.52604902e-01  5.54008133e-01\n",
      "   7.61935058e-01  3.98954006e-01  8.83212409e-01  5.28344302e-01\n",
      "  -7.54920997e-02 -2.51656904e-01]\n",
      " [ 1.08674973e+00  1.53972773e+00 -1.30739528e+00 -7.02365478e-01\n",
      "  -1.09749886e+00 -1.41199192e+00 -8.37494596e-01  5.55308774e-01\n",
      "   2.06542504e-01  3.13840729e-01]\n",
      " [ 6.16813411e-01  3.68582431e-01 -4.88722694e-01  5.81226118e-01\n",
      "   2.55073174e-01 -1.01835089e+00 -4.88403607e-01  7.67928690e-02\n",
      "  -4.63939369e-01 -3.75835614e-01]\n",
      " [-2.80547125e+00 -1.07756578e+00  1.08071874e+00 -1.24257957e+00\n",
      "   4.24228775e-01  9.72620561e-02 -5.03319436e-01 -6.53898919e-03\n",
      "   1.14037416e-01 -3.65634055e-01]\n",
      " [-2.12959859e+00 -8.61873530e-01 -4.57388113e-01  1.78359120e-01\n",
      "  -1.05633418e+00 -2.86027909e-01 -2.57943177e-01  8.36598869e-01\n",
      "  -4.44158277e-01 -5.77970003e-01]\n",
      " [ 3.56102407e+00 -9.72706038e-01  6.91794917e-01 -8.52290415e-01\n",
      "  -3.02401962e-01  1.68174983e-01 -8.34489528e-01 -4.29279253e-01\n",
      "   1.34386620e-01  6.81559615e-01]\n",
      " [-1.45817820e+00  7.46417526e-02 -2.73551683e-01 -1.12471229e+00\n",
      "  -4.88726705e-01 -2.35144607e-01 -2.37683556e-02 -1.51527707e-01\n",
      "   6.71470635e-01  3.63974372e-01]\n",
      " [ 3.74179905e-01  1.65726359e+00 -1.85414960e-01 -7.48940541e-01\n",
      "  -1.59174181e+00 -4.13728778e-01  4.29312753e-01 -5.62332028e-01\n",
      "   8.28642616e-01 -2.82468479e-01]\n",
      " [-1.25940221e+00 -3.89943467e-01  1.10686150e+00  9.61001558e-01\n",
      "  -1.11708551e+00  5.32459700e-01  9.43359880e-02  3.41099771e-01\n",
      "  -8.99452097e-02 -5.37844569e-01]\n",
      " [ 2.61011358e-01 -1.38970777e+00 -8.87105457e-01  6.25538989e-01\n",
      "   1.43308473e-01  2.31269344e-02  1.95173854e-01  5.30771296e-01\n",
      "  -9.58941471e-01  1.33731494e+00]\n",
      " [-2.17879228e+00 -1.29837999e-01 -8.83599441e-01 -1.11058616e+00\n",
      "  -2.58082013e-01  6.30788264e-01  9.73823455e-01 -1.69413421e-02\n",
      "   2.09012853e-01 -3.76980642e-01]\n",
      " [ 2.93431266e+00 -8.35722365e-01  6.17257564e-01 -2.17718400e-01\n",
      "   6.45620148e-02 -1.37939898e-01 -6.24544374e-01  8.31077045e-01\n",
      "  -2.65928013e-01 -4.65020021e-01]\n",
      " [-1.62714237e+00  1.84817751e+00 -2.55208290e-02  1.83216820e+00\n",
      "  -1.24636184e+00 -7.65704793e-01 -8.13592315e-01  6.00182511e-01\n",
      "   1.31013912e+00 -3.33866955e-01]\n",
      " [-9.64870509e-02  1.44210232e+00  1.16486068e-01 -1.50559304e+00\n",
      "   1.73581135e+00  3.03124876e-01  6.36268580e-01  5.89973433e-01\n",
      "  -2.21252027e-01 -1.06015910e-01]\n",
      " [ 9.66430351e-01  4.08534890e+00 -5.93838703e-01 -1.52076592e+00\n",
      "  -7.89979879e-02 -1.02569428e-01 -6.69571701e-01  6.12805691e-01\n",
      "   1.95787766e-01  2.12348261e-01]\n",
      " [ 1.92328497e+00 -2.02840255e-01  1.53300802e+00 -1.82969683e+00\n",
      "   7.81219286e-01  7.15563699e-01 -2.27376642e-01  1.92772750e+00\n",
      "   7.35169120e-02  2.75515140e-01]\n",
      " [ 3.18055406e+00  1.87945699e+00  3.78350632e-01 -1.07319892e+00\n",
      "   1.77161412e-01  4.39416120e-01 -4.74004648e-01  1.17031775e-01\n",
      "   4.24795729e-01  2.47557546e-01]\n",
      " [-1.92112911e+00 -2.14560748e-01 -4.33520283e-03  4.08440315e-01\n",
      "   1.10748591e+00 -3.58760270e-02 -8.84714815e-01 -4.52692686e-01\n",
      "   5.52309138e-01  9.42351010e-02]\n",
      " [-1.28500297e+00 -2.88674840e-01  1.93520839e+00  1.15982191e+00\n",
      "  -2.74255800e-01  6.93934072e-01  4.57593750e-01 -2.74662645e-01\n",
      "  -1.86751438e-01 -2.76020034e-01]\n",
      " [ 5.41073340e-01 -9.42337691e-01  8.74494659e-01 -4.87865862e-01\n",
      "  -8.03875777e-01 -1.07404322e-01  4.95786739e-01  9.80228102e-01\n",
      "   3.98782290e-01 -7.82725753e-03]\n",
      " [-1.50125153e+00  1.97629004e+00 -1.31395715e-01  3.77567338e+00\n",
      "  -2.07994219e-01 -6.59518969e-01 -9.07975027e-01 -8.32090863e-02\n",
      "   1.17604525e-01 -2.56389591e-02]\n",
      " [-1.84860456e+00 -1.12735027e+00 -1.39204242e+00 -4.85725146e-01\n",
      "  -3.23049599e-01  1.33444261e-01 -6.55337256e-01  9.24993271e-01\n",
      "  -4.93226623e-01  3.04283916e-01]\n",
      " [ 7.87397719e-01  2.67719157e+00 -5.15315831e-01 -2.65829570e-01\n",
      "  -1.00801778e+00 -3.01112255e-01  1.18159384e+00  7.11978869e-01\n",
      "   1.13579528e+00  5.67569981e-01]\n",
      " [-2.00938328e+00  2.88454221e-01 -1.23053341e+00  7.19098314e-01\n",
      "   5.97210910e-01  2.03394021e-01  9.56869663e-01 -5.48767084e-01\n",
      "   6.61639063e-01  2.29711390e-01]\n",
      " [ 8.13024568e-01  1.04572463e-01 -8.07621628e-01  3.17623916e-01\n",
      "  -8.00281782e-01  1.83635865e-01  2.05795729e-03  7.61270677e-01\n",
      "   8.35464740e-01  4.18178256e-01]\n",
      " [ 2.24622873e+00  3.99777456e+00 -9.47543292e-01 -1.06748812e+00\n",
      "  -2.76153969e-01  2.62502929e-01 -3.07733100e-01 -6.10503297e-01\n",
      "  -7.56146254e-01 -2.82606743e-01]\n",
      " [ 6.88169006e-01 -1.25211438e-01 -1.09416114e+00 -7.79690823e-01\n",
      "   2.06247792e-01 -1.03877682e+00 -6.38087527e-01  3.79271982e-01\n",
      "   2.01834010e-01 -3.17127767e-01]\n",
      " [-2.08991575e+00  1.20206180e+00 -1.04158612e+00 -3.83286514e-01\n",
      "  -3.11263377e-01  4.41215355e-01 -2.09414160e-01 -6.53601597e-01\n",
      "   5.79864058e-01  4.37016537e-01]\n",
      " [-9.21852048e-01 -1.90901943e-01 -1.97167628e+00  1.11206345e-01\n",
      "   3.22246688e-01 -2.81859911e-01  6.82541918e-01  9.02131897e-01\n",
      "  -6.09373073e-01  1.64864190e-01]\n",
      " [ 4.34509727e+00 -5.90011626e-01  1.40545580e+00 -1.64415292e+00\n",
      "  -8.39973283e-02 -1.09780613e+00 -7.15044464e-01  1.80031338e-01\n",
      "  -2.39324926e-01 -5.58001587e-01]\n",
      " [-8.68651623e-01  9.92494124e-01 -5.12727388e-01  5.23618285e-02\n",
      "  -2.71033111e-01  1.07384687e+00  7.25052371e-02 -1.51580297e-01\n",
      "   1.40743375e-01 -5.07786425e-01]\n",
      " [-1.77677647e-01 -1.43118226e+00 -5.42430916e-01 -2.03524363e-01\n",
      "   1.10669628e+00 -2.99216757e-01 -1.51009953e+00  4.89639763e-01\n",
      "   2.60962750e-02  1.04837471e-01]\n",
      " [ 1.09716351e+00 -1.07003756e+00 -2.14543347e+00  5.64242034e-02\n",
      "   2.31628747e-01  1.53614755e+00 -3.37644274e-01 -1.47255785e-01\n",
      "   5.19965436e-01  2.76166084e-01]\n",
      " [-1.69124063e+00 -1.17151659e+00 -8.19167534e-01  8.19192561e-01\n",
      "  -5.10921662e-01  1.12359237e+00  2.36129947e-01  2.19290853e-01\n",
      "  -5.27104744e-01 -1.07117839e-01]\n",
      " [ 3.35230167e-01 -1.40530847e+00 -8.12746715e-01  1.01797441e+00\n",
      "   1.46733793e-01  1.40709014e+00 -9.11758153e-01 -1.13146697e-02\n",
      "  -8.07099184e-02  7.17481186e-01]]\n"
     ]
    }
   ],
   "source": [
    "#create PCA object\n",
    "#sklearn uses objects that can be trained using one dataseet and applied to another dataset\n",
    "pca = PCA(n_components=10)\n",
    "\n",
    "#call fit method on scaled data, where all PCA math occurs (i.e. calculate loading scores and the variation each principal component accounts for)\n",
    "pca.fit(scaled_wtp_pca)\n",
    "\n",
    "\n",
    "#generate coordinates for PCA graph based on loading scores and scaled data\n",
    "pca_data = pca.transform(scaled_wtp_pca)\n",
    "print(pca_data)"
   ]
  },
  {
   "cell_type": "code",
   "execution_count": 15,
   "id": "257de7f5",
   "metadata": {},
   "outputs": [],
   "source": [
    "#calculate the percentage of variation that each principal component accounts for\n",
    "per_var = np.round(pca.explained_variance_ratio_*100,decimals=1)\n",
    "\n",
    "type(per_var)\n",
    "per_var = np.round(pca.explained_variance_ratio_*100,decimals=1)"
   ]
  },
  {
   "cell_type": "code",
   "execution_count": 16,
   "id": "4d0e0fa3",
   "metadata": {},
   "outputs": [],
   "source": [
    "#now create labels for scree plot, 1 label per principal component; PC1, PC2, etc\n",
    "labels = ['PC' +str(x) for x in range(1,len(per_var)+1)]"
   ]
  },
  {
   "cell_type": "code",
   "execution_count": 17,
   "id": "57a5147c",
   "metadata": {},
   "outputs": [
    {
     "name": "stdout",
     "output_type": "stream",
     "text": [
      "[32.2 18.5 11.4  9.8  7.9  7.   4.9  4.   2.5  1.9]\n"
     ]
    }
   ],
   "source": [
    "percs = pd.DataFrame(per_var)\n",
    "print(per_var)"
   ]
  },
  {
   "cell_type": "code",
   "execution_count": 18,
   "id": "d51628ac",
   "metadata": {},
   "outputs": [
    {
     "data": {
      "image/png": "[encoded data removed]",
      "text/plain": [
       "<Figure size 1080x1080 with 1 Axes>"
      ]
     },
     "metadata": {
      "needs_background": "light"
     },
     "output_type": "display_data"
    }
   ],
   "source": [
    "#use matplotlib to create a bar plot\n",
    "plt.figure(figsize=(15,15))\n",
    "plt.bar(x=range(1,len(per_var)+1), height= per_var,tick_label=labels)\n",
    "plt.ylabel('Percentage of Explained Variance')\n",
    "plt.xlabel('Principal Component')\n",
    "plt.title('Scree Plot')\n",
    "plt.savefig('PCAskreeplotall.png')\n",
    "plt.show()"
   ]
  },
  {
   "cell_type": "code",
   "execution_count": 24,
   "id": "caf2dbc1",
   "metadata": {},
   "outputs": [
    {
     "data": {
      "image/png": "[encoded data removed]",
      "text/plain": [
       "<Figure size 720x432 with 1 Axes>"
      ]
     },
     "metadata": {
      "needs_background": "light"
     },
     "output_type": "display_data"
    }
   ],
   "source": [
    "# Use matplotlib to create a bar plot\n",
    "plt.figure(figsize=(10,6))\n",
    "plt.bar(x=range(1, len(per_var)+1), height= per_var, tick_label=labels, color='gray')\n",
    "plt.ylabel('Percentage of Explained Variance', fontsize=20)\n",
    "plt.xlabel('Principal Component', fontsize=20)\n",
    "plt.title('', fontsize=20)\n",
    "plt.xticks(fontsize=14)\n",
    "plt.yticks(fontsize=14)\n",
    "plt.tight_layout()\n",
    "plt.savefig('PCAskreeplotall.png')\n",
    "plt.show()"
   ]
  },
  {
   "cell_type": "code",
   "execution_count": 27,
   "id": "bd714a85",
   "metadata": {},
   "outputs": [
    {
     "name": "stdout",
     "output_type": "stream",
     "text": [
      "[32.2, 18.5, 11.4, 9.8, 7.9, 7.0, 4.9, 4.0, 2.5, 1.9]\n"
     ]
    }
   ],
   "source": [
    "per_var2 = list(per_var[0:10])\n",
    "print(per_var2)\n",
    "labels2 = ['PC' +str(x) for x in range(1,len(per_var2)+1)]"
   ]
  },
  {
   "cell_type": "code",
   "execution_count": 28,
   "id": "479546c9",
   "metadata": {},
   "outputs": [
    {
     "data": {
      "image/png": "[encoded data removed]",
      "text/plain": [
       "<Figure size 432x288 with 1 Axes>"
      ]
     },
     "metadata": {
      "needs_background": "light"
     },
     "output_type": "display_data"
    }
   ],
   "source": [
    "#use matplotlib to create a bar plot\n",
    "# plt.figure(figsize=(,15))\n",
    "plt.bar(x=range(1,len(per_var2)+1), height= per_var2,tick_label=labels2)\n",
    "plt.ylabel('Percentage of Explained Variance')\n",
    "plt.xlabel('Principal Component')\n",
    "plt.title('Scree Plot')\n",
    "plt.savefig('PCAskreeplot_top10.png')\n",
    "plt.show()"
   ]
  },
  {
   "cell_type": "code",
   "execution_count": 20,
   "id": "bb4f2ea7",
   "metadata": {},
   "outputs": [
    {
     "name": "stdout",
     "output_type": "stream",
     "text": [
      "                               PC1       PC2       PC3\n",
      "Prolific_ID                                           \n",
      "59d5888d21977e0001d630f3 -0.023922 -1.146069  1.872546\n",
      "5a09ebdf087f2e0001eae39f -0.507947 -0.047154  0.970395\n",
      "5c5c451500b69200011bb8bf -0.199765  2.961534 -0.838744\n",
      "5c9d004ee3b6c40015254526 -0.464089  1.699558  0.159131\n",
      "5cc3f0f9fdb33500018c5eeb -0.207667 -0.804005  1.535246\n",
      "...                            ...       ...       ...\n",
      "67094d6215b6d0fe3e8c3e39 -0.868652  0.992494 -0.512727\n",
      "670d326c55fa3d6f10ebe253 -0.177678 -1.431182 -0.542431\n",
      "6711f493bfc7c4e11953872d  1.097164 -1.070038 -2.145433\n",
      "671469967e2a4f2e612e3846 -1.691241 -1.171517 -0.819168\n",
      "6722ca2b1f3ebd2d544608c3  0.335230 -1.405308 -0.812747\n",
      "\n",
      "[98 rows x 3 columns]\n"
     ]
    }
   ],
   "source": [
    "#draw a PCA plot\n",
    "#first, put the new coordinates created by pca.transform(scaled.data)\n",
    "#into a matrix where the rows have the participant ids and the columns have PC labels\n",
    "pca_df = pd.DataFrame(pca_data, index=ids,columns=labels)\n",
    "print(pca_df)\n",
    "pca_df.to_csv('wtp_rej_PCA_allsubjects.csv')"
   ]
  },
  {
   "cell_type": "code",
   "execution_count": 21,
   "id": "e60a5187",
   "metadata": {},
   "outputs": [
    {
     "data": {
      "image/png": "[encoded data removed]",
      "text/plain": [
       "<Figure size 1080x1080 with 1 Axes>"
      ]
     },
     "metadata": {
      "needs_background": "light"
     },
     "output_type": "display_data"
    },
    {
     "data": {
      "text/plain": [
       "<Figure size 432x288 with 0 Axes>"
      ]
     },
     "metadata": {},
     "output_type": "display_data"
    }
   ],
   "source": [
    "#Visualize the distribution of the samples\n",
    "#draw a scatter plot\n",
    "plt.figure(figsize=(15,15))\n",
    "plt.scatter(pca_df.PC1,pca_df.PC2)\n",
    "plt.title('My PCA Graph')\n",
    "plt.xlabel('PC1 - {0}%'.format(per_var[0]))\n",
    "plt.ylabel('PC2 - {0}%'.format(per_var[1]))\n",
    "#add sample names to graph\n",
    "# for sample in pca_df.index:\n",
    "#     plt.annotate(sample,(pca_df.PC1.loc[sample],pca_df.PC2.loc[sample]))\n",
    "plt.show()\n",
    "plt.savefig('PCAscatterplotall.png')"
   ]
  },
  {
   "cell_type": "code",
   "execution_count": 22,
   "id": "5282335a",
   "metadata": {},
   "outputs": [
    {
     "name": "stdout",
     "output_type": "stream",
     "text": [
      "aq                   0.427662\n",
      "ntbs                -0.008253\n",
      "rsq                  0.264370\n",
      "scs                 -0.466723\n",
      "srqadmiration       -0.260149\n",
      "srqnegativesocpot   -0.014867\n",
      "srqsexualbehavior   -0.344518\n",
      "srqprosocial        -0.164015\n",
      "srqsociability      -0.431489\n",
      "mspss               -0.360057\n",
      "dtype: float64\n",
      "['scs' 'srqsociability' 'aq' 'mspss' 'srqsexualbehavior' 'rsq'\n",
      " 'srqadmiration' 'srqprosocial' 'srqnegativesocpot' 'ntbs']\n"
     ]
    }
   ],
   "source": [
    "###All measures and their loading scores for PC 1\n",
    "\n",
    "#create series obj w/ the loading scores in PC1\n",
    "loading_scores = pd.Series(pca.components_[0], index=measures)\n",
    "print(loading_scores)\n",
    "#sort loading scores based on their magnitude(absolute value)\n",
    "sorted_loading_scores = loading_scores.abs().sort_values(ascending=False)\n",
    "#get the names of the top 10 indexes (measure names )\n",
    "top_measures = sorted_loading_scores.index.values\n",
    "print(top_measures)"
   ]
  },
  {
   "cell_type": "code",
   "execution_count": 23,
   "id": "5c1c578c",
   "metadata": {},
   "outputs": [
    {
     "name": "stdout",
     "output_type": "stream",
     "text": [
      "scs                 -0.466723\n",
      "srqsociability      -0.431489\n",
      "aq                   0.427662\n",
      "mspss               -0.360057\n",
      "srqsexualbehavior   -0.344518\n",
      "rsq                  0.264370\n",
      "srqadmiration       -0.260149\n",
      "srqprosocial        -0.164015\n",
      "srqnegativesocpot   -0.014867\n",
      "ntbs                -0.008253\n",
      "dtype: float64\n",
      "        scs  srqsociability        aq     mspss  srqsexualbehavior      rsq  \\\n",
      "0 -0.466723       -0.431489  0.427662 -0.360057          -0.344518  0.26437   \n",
      "\n",
      "   srqadmiration  srqprosocial  srqnegativesocpot      ntbs  \n",
      "0      -0.260149     -0.164015          -0.014867 -0.008253  \n"
     ]
    }
   ],
   "source": [
    "#PC1 - top 10 measures and their corresponding loading scores\n",
    "print(loading_scores[top_measures])\n",
    "PC1 = pd.DataFrame(loading_scores[top_measures]).transpose()\n",
    "print(PC1)\n",
    "# PC1.to_csv('PC1.csv')"
   ]
  },
  {
   "cell_type": "code",
   "execution_count": 24,
   "id": "6d8ab61f",
   "metadata": {},
   "outputs": [
    {
     "name": "stdout",
     "output_type": "stream",
     "text": [
      "aq                  -0.050760\n",
      "ntbs                -0.161646\n",
      "rsq                  0.131364\n",
      "scs                  0.148123\n",
      "srqadmiration       -0.301188\n",
      "srqnegativesocpot    0.645607\n",
      "srqsexualbehavior    0.185717\n",
      "srqprosocial        -0.605939\n",
      "srqsociability       0.146456\n",
      "mspss               -0.038371\n",
      "dtype: float64\n"
     ]
    }
   ],
   "source": [
    "###ALL measures and their loading scores for PC 2\n",
    "#look at the loading scores for PC2 to determine which measures had the largest influence\n",
    "#... on separating the two clusters along the x-axis\n",
    "#create series obj w/ the loading scores in PC1\n",
    "loading_scores = pd.Series(pca.components_[1], index=measures)\n",
    "print(loading_scores)\n",
    "#sort loading scores based on their magnitude(absolute value)\n",
    "sorted_loading_scores = loading_scores.abs().sort_values(ascending=False)\n",
    "#get the names of the top 10 indexes (measure names )\n",
    "top_measures = sorted_loading_scores.index.values"
   ]
  },
  {
   "cell_type": "code",
   "execution_count": 25,
   "id": "8a517508",
   "metadata": {},
   "outputs": [
    {
     "name": "stdout",
     "output_type": "stream",
     "text": [
      "srqnegativesocpot    0.645607\n",
      "srqprosocial        -0.605939\n",
      "srqadmiration       -0.301188\n",
      "srqsexualbehavior    0.185717\n",
      "ntbs                -0.161646\n",
      "scs                  0.148123\n",
      "srqsociability       0.146456\n",
      "rsq                  0.131364\n",
      "aq                  -0.050760\n",
      "mspss               -0.038371\n",
      "dtype: float64\n"
     ]
    }
   ],
   "source": [
    "#PC2 -  top 10 measures and their corresponding loading scores\n",
    "print(loading_scores[top_measures])\n",
    "PC2 = pd.DataFrame(loading_scores[top_measures]).transpose()\n",
    "# print(PC2.columns)"
   ]
  },
  {
   "cell_type": "code",
   "execution_count": 26,
   "id": "4ead3ab7",
   "metadata": {},
   "outputs": [
    {
     "name": "stdout",
     "output_type": "stream",
     "text": [
      "aq                  -0.238239\n",
      "ntbs                -0.592975\n",
      "rsq                 -0.249456\n",
      "scs                  0.216209\n",
      "srqadmiration       -0.546137\n",
      "srqnegativesocpot   -0.283207\n",
      "srqsexualbehavior   -0.282712\n",
      "srqprosocial         0.023696\n",
      "srqsociability      -0.127578\n",
      "mspss                0.086093\n",
      "dtype: float64\n"
     ]
    }
   ],
   "source": [
    "###All measures and their loading scores for PC 3\n",
    "\n",
    "#look at the loading scores for PC2 to determine which measures had the largest influence\n",
    "#... on separating the two clusters along the x-axis\n",
    "#create series obj w/ the loading scores in PC1\n",
    "loading_scores = pd.Series(pca.components_[2], index=measures)\n",
    "print(loading_scores)\n",
    "#sort loading scores based on their magnitude(absolute value)\n",
    "sorted_loading_scores = loading_scores.abs().sort_values(ascending=False)\n",
    "#get the names of the top 10 indexes (measure names )\n",
    "top_measures = sorted_loading_scores.index.values"
   ]
  },
  {
   "cell_type": "code",
   "execution_count": 27,
   "id": "21a0c187",
   "metadata": {},
   "outputs": [
    {
     "name": "stdout",
     "output_type": "stream",
     "text": [
      "ntbs                -0.592975\n",
      "srqadmiration       -0.546137\n",
      "srqnegativesocpot   -0.283207\n",
      "srqsexualbehavior   -0.282712\n",
      "rsq                 -0.249456\n",
      "aq                  -0.238239\n",
      "scs                  0.216209\n",
      "srqsociability      -0.127578\n",
      "mspss                0.086093\n",
      "srqprosocial         0.023696\n",
      "dtype: float64\n",
      "Index(['ntbs', 'srqadmiration', 'srqnegativesocpot', 'srqsexualbehavior',\n",
      "       'rsq', 'aq', 'scs', 'srqsociability', 'mspss', 'srqprosocial'],\n",
      "      dtype='object')\n"
     ]
    }
   ],
   "source": [
    "#PC 3 print top 10 measures and their corresponding loading scores\n",
    "print(loading_scores[top_measures])\n",
    "PC3 = pd.DataFrame(loading_scores[top_measures]).transpose()\n",
    "print(PC3.columns)"
   ]
  },
  {
   "cell_type": "code",
   "execution_count": 28,
   "id": "83434ec9",
   "metadata": {},
   "outputs": [],
   "source": [
    "selfreports = ['Autism Quotient','Need to Belong','Rejection Sensitivity','Social Connectedness ','Social Reward - Admiration', 'Social Reward - Negsocpot','Social Reward - Sexual Behavior',\n",
    "               'Social Reward - Prosocial', 'Social Reward - Sociability', 'Social Support', ]"
   ]
  },
  {
   "cell_type": "code",
   "execution_count": 29,
   "id": "ce1eec31",
   "metadata": {},
   "outputs": [
    {
     "data": {
      "image/png": "[encoded data removed]",
      "text/plain": [
       "<Figure size 1800x2520 with 2 Axes>"
      ]
     },
     "metadata": {},
     "output_type": "display_data"
    }
   ],
   "source": [
    "sns.set(font_scale=1.5)\n",
    "fig, ax = plt.subplots(figsize=(25,35)) \n",
    "ax = sns.heatmap(pca.components_,\n",
    "                 cmap='RdBu_r',\n",
    "                 yticklabels=[ \"PCA\"+str(x) for x in range(1,pca.n_components_+1)],\n",
    "                 xticklabels=list(selfreports),\n",
    "                 cbar_kws={\"orientation\": \"horizontal\"})\n",
    "ax.set_aspect(\"equal\")\n",
    "plt.savefig('PCA_heatmap.png')"
   ]
  },
  {
   "cell_type": "code",
   "execution_count": 33,
   "id": "0c699a69",
   "metadata": {},
   "outputs": [],
   "source": [
    "# In Python\n",
    "pca_df = pd.DataFrame(pca_data, columns=['PC1', 'PC2', 'PC3'])\n",
    "pca_df['prolific_id'] = original_data['subject_id'].values  # Or whatever grouping variable you use\n",
    "#pca_df['outcome'] = original_data['outcome'].values        # Add outcome if not already in original_data\n",
    "pca_df.to_csv('pca_data.csv', index=False)\n"
   ]
  },
  {
   "cell_type": "code",
   "execution_count": null,
   "id": "a8917c22",
   "metadata": {},
   "outputs": [],
   "source": []
  }
 ],
 "metadata": {
  "kernelspec": {
   "display_name": "Python 3",
   "language": "python",
   "name": "python3"
  },
  "language_info": {
   "codemirror_mode": {
    "name": "ipython",
    "version": 3
   },
   "file_extension": ".py",
   "mimetype": "text/x-python",
   "name": "python",
   "nbconvert_exporter": "python",
   "pygments_lexer": "ipython3",
   "version": "3.8.10"
  }
 },
 "nbformat": 4,
 "nbformat_minor": 5
}
